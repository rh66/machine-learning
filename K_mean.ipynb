{
 "cells": [
  {
   "cell_type": "markdown",
   "metadata": {},
   "source": [
    "These exercises are part of practice in Chaperter 6 \"Machine Learning\", of online courses \"Become a data scientist\" [www.dataquest.io](https://www.dataquest.io/) "
   ]
  },
  {
   "cell_type": "markdown",
   "metadata": {},
   "source": [
    "# K-mean"
   ]
  },
  {
   "cell_type": "code",
   "execution_count": 13,
   "metadata": {
    "collapsed": true
   },
   "outputs": [],
   "source": [
    "import pandas as pd\n",
    "from sklearn.metrics.pairwise import euclidean_distances\n",
    "from sklearn.cluster import KMeans\n",
    "import numpy as np\n",
    "import matplotlib.pyplot as plt\n",
    "%matplotlib inline"
   ]
  },
  {
   "cell_type": "code",
   "execution_count": 51,
   "metadata": {},
   "outputs": [
    {
     "data": {
      "text/html": [
       "<div>\n",
       "<style scoped>\n",
       "    .dataframe tbody tr th:only-of-type {\n",
       "        vertical-align: middle;\n",
       "    }\n",
       "\n",
       "    .dataframe tbody tr th {\n",
       "        vertical-align: top;\n",
       "    }\n",
       "\n",
       "    .dataframe thead th {\n",
       "        text-align: right;\n",
       "    }\n",
       "</style>\n",
       "<table border=\"1\" class=\"dataframe\">\n",
       "  <thead>\n",
       "    <tr style=\"text-align: right;\">\n",
       "      <th></th>\n",
       "      <th>name</th>\n",
       "      <th>party</th>\n",
       "      <th>state</th>\n",
       "      <th>00001</th>\n",
       "      <th>00004</th>\n",
       "      <th>00005</th>\n",
       "      <th>00006</th>\n",
       "      <th>00007</th>\n",
       "      <th>00008</th>\n",
       "      <th>00009</th>\n",
       "      <th>00010</th>\n",
       "      <th>00020</th>\n",
       "      <th>00026</th>\n",
       "      <th>00032</th>\n",
       "      <th>00038</th>\n",
       "      <th>00039</th>\n",
       "      <th>00044</th>\n",
       "      <th>00047</th>\n",
       "    </tr>\n",
       "  </thead>\n",
       "  <tbody>\n",
       "    <tr>\n",
       "      <th>0</th>\n",
       "      <td>Alexander</td>\n",
       "      <td>R</td>\n",
       "      <td>TN</td>\n",
       "      <td>0.0</td>\n",
       "      <td>1.0</td>\n",
       "      <td>1.0</td>\n",
       "      <td>1.0</td>\n",
       "      <td>1.0</td>\n",
       "      <td>0.0</td>\n",
       "      <td>0.0</td>\n",
       "      <td>1.0</td>\n",
       "      <td>1.0</td>\n",
       "      <td>1.0</td>\n",
       "      <td>0.0</td>\n",
       "      <td>0.0</td>\n",
       "      <td>0.0</td>\n",
       "      <td>0.0</td>\n",
       "      <td>0.0</td>\n",
       "    </tr>\n",
       "    <tr>\n",
       "      <th>1</th>\n",
       "      <td>Ayotte</td>\n",
       "      <td>R</td>\n",
       "      <td>NH</td>\n",
       "      <td>0.0</td>\n",
       "      <td>1.0</td>\n",
       "      <td>1.0</td>\n",
       "      <td>1.0</td>\n",
       "      <td>1.0</td>\n",
       "      <td>0.0</td>\n",
       "      <td>0.0</td>\n",
       "      <td>1.0</td>\n",
       "      <td>0.0</td>\n",
       "      <td>1.0</td>\n",
       "      <td>0.0</td>\n",
       "      <td>1.0</td>\n",
       "      <td>0.0</td>\n",
       "      <td>1.0</td>\n",
       "      <td>0.0</td>\n",
       "    </tr>\n",
       "    <tr>\n",
       "      <th>2</th>\n",
       "      <td>Baldwin</td>\n",
       "      <td>D</td>\n",
       "      <td>WI</td>\n",
       "      <td>1.0</td>\n",
       "      <td>0.0</td>\n",
       "      <td>0.0</td>\n",
       "      <td>1.0</td>\n",
       "      <td>0.0</td>\n",
       "      <td>1.0</td>\n",
       "      <td>0.0</td>\n",
       "      <td>1.0</td>\n",
       "      <td>0.0</td>\n",
       "      <td>0.0</td>\n",
       "      <td>1.0</td>\n",
       "      <td>1.0</td>\n",
       "      <td>0.0</td>\n",
       "      <td>1.0</td>\n",
       "      <td>1.0</td>\n",
       "    </tr>\n",
       "    <tr>\n",
       "      <th>3</th>\n",
       "      <td>Barrasso</td>\n",
       "      <td>R</td>\n",
       "      <td>WY</td>\n",
       "      <td>0.0</td>\n",
       "      <td>1.0</td>\n",
       "      <td>1.0</td>\n",
       "      <td>1.0</td>\n",
       "      <td>1.0</td>\n",
       "      <td>0.0</td>\n",
       "      <td>1.0</td>\n",
       "      <td>1.0</td>\n",
       "      <td>1.0</td>\n",
       "      <td>1.0</td>\n",
       "      <td>0.0</td>\n",
       "      <td>0.0</td>\n",
       "      <td>1.0</td>\n",
       "      <td>0.0</td>\n",
       "      <td>0.0</td>\n",
       "    </tr>\n",
       "    <tr>\n",
       "      <th>4</th>\n",
       "      <td>Bennet</td>\n",
       "      <td>D</td>\n",
       "      <td>CO</td>\n",
       "      <td>0.0</td>\n",
       "      <td>0.0</td>\n",
       "      <td>0.0</td>\n",
       "      <td>1.0</td>\n",
       "      <td>0.0</td>\n",
       "      <td>1.0</td>\n",
       "      <td>0.0</td>\n",
       "      <td>1.0</td>\n",
       "      <td>0.0</td>\n",
       "      <td>0.0</td>\n",
       "      <td>0.0</td>\n",
       "      <td>1.0</td>\n",
       "      <td>0.0</td>\n",
       "      <td>1.0</td>\n",
       "      <td>0.0</td>\n",
       "    </tr>\n",
       "  </tbody>\n",
       "</table>\n",
       "</div>"
      ],
      "text/plain": [
       "        name party state  00001  00004  00005  00006  00007  00008  00009  \\\n",
       "0  Alexander     R    TN    0.0    1.0    1.0    1.0    1.0    0.0    0.0   \n",
       "1     Ayotte     R    NH    0.0    1.0    1.0    1.0    1.0    0.0    0.0   \n",
       "2    Baldwin     D    WI    1.0    0.0    0.0    1.0    0.0    1.0    0.0   \n",
       "3   Barrasso     R    WY    0.0    1.0    1.0    1.0    1.0    0.0    1.0   \n",
       "4     Bennet     D    CO    0.0    0.0    0.0    1.0    0.0    1.0    0.0   \n",
       "\n",
       "   00010  00020  00026  00032  00038  00039  00044  00047  \n",
       "0    1.0    1.0    1.0    0.0    0.0    0.0    0.0    0.0  \n",
       "1    1.0    0.0    1.0    0.0    1.0    0.0    1.0    0.0  \n",
       "2    1.0    0.0    0.0    1.0    1.0    0.0    1.0    1.0  \n",
       "3    1.0    1.0    1.0    0.0    0.0    1.0    0.0    0.0  \n",
       "4    1.0    0.0    0.0    0.0    1.0    0.0    1.0    0.0  "
      ]
     },
     "execution_count": 51,
     "metadata": {},
     "output_type": "execute_result"
    }
   ],
   "source": [
    "votes = pd.read_csv('../../../dataquest/datafile/6-5-5-114_congress.csv')\n",
    "votes.head()"
   ]
  },
  {
   "cell_type": "code",
   "execution_count": 4,
   "metadata": {},
   "outputs": [
    {
     "name": "stdout",
     "output_type": "stream",
     "text": [
      "(100, 18)\n"
     ]
    }
   ],
   "source": [
    "print(votes.shape)"
   ]
  },
  {
   "cell_type": "code",
   "execution_count": 5,
   "metadata": {},
   "outputs": [
    {
     "name": "stdout",
     "output_type": "stream",
     "text": [
      "R    54\n",
      "D    44\n",
      "I     2\n",
      "Name: party, dtype: int64\n"
     ]
    }
   ],
   "source": [
    "print(votes['party'].value_counts())"
   ]
  },
  {
   "cell_type": "code",
   "execution_count": 6,
   "metadata": {},
   "outputs": [
    {
     "name": "stdout",
     "output_type": "stream",
     "text": [
      "[[ 3.31662479]]\n"
     ]
    }
   ],
   "source": [
    "# example of euclidean-distance calculations\n",
    "print(euclidean_distances(votes.iloc[0,3:].values.reshape(1,-1), \n",
    "                          votes.iloc[2,3:].values.reshape(1,-1)))"
   ]
  },
  {
   "cell_type": "markdown",
   "metadata": {},
   "source": [
    "## KMeans.fit_transform fit cluster centers and distances of data to each center\n",
    "dataframe with each rows represents samples, columns represents features"
   ]
  },
  {
   "cell_type": "code",
   "execution_count": 52,
   "metadata": {},
   "outputs": [
    {
     "name": "stdout",
     "output_type": "stream",
     "text": [
      "[[ 3.12141628  1.3134775 ]\n",
      " [ 2.6146248   2.05339992]\n",
      " [ 0.33960656  3.41651746]\n",
      " [ 3.42004795  0.24198446]\n",
      " [ 1.43833966  2.96866004]]\n"
     ]
    }
   ],
   "source": [
    "# 2 cluster fitting, use fit_transform to calculate the distances of senators to each center\n",
    "model = KMeans(n_clusters=2, random_state=1)\n",
    "senator_distances = model.fit_transform(votes.iloc[:,3:])\n",
    "print(senator_distances[:5])   # (1st, 2nd) columns: distances to (1st, 2nd) center"
   ]
  },
  {
   "cell_type": "code",
   "execution_count": 10,
   "metadata": {},
   "outputs": [
    {
     "name": "stdout",
     "output_type": "stream",
     "text": [
      "[1 1 0 1 0 0 1 0 1 0 0 1 0 1 0 0 0 1 1 1 1 0 1 1 1 1 1 1 0 0 1 1 0 1 1 0 1\n",
      " 0 1 1 1 0 1 1 0 1 1 1 1 0 0 1 0 1 0 1 1 0 1 0 1 0 0 0 1 1 0 0 0 1 1 0 1 0\n",
      " 1 1 1 1 1 0 1 0 0 1 1 0 1 0 1 0 1 1 1 0 1 0 0 0 1 0]\n",
      "100\n"
     ]
    }
   ],
   "source": [
    "print(model.labels_)\n",
    "print(len(model.labels_))"
   ]
  },
  {
   "cell_type": "markdown",
   "metadata": {},
   "source": [
    "## pd.crosstab() compares cluster 'labels' to values of a column "
   ]
  },
  {
   "cell_type": "code",
   "execution_count": 11,
   "metadata": {},
   "outputs": [
    {
     "name": "stdout",
     "output_type": "stream",
     "text": [
      "party   D  I   R\n",
      "row_0           \n",
      "0      41  2   0\n",
      "1       3  0  54\n"
     ]
    }
   ],
   "source": [
    "print(pd.crosstab(model.labels_, votes['party']))"
   ]
  },
  {
   "cell_type": "markdown",
   "metadata": {},
   "source": [
    "So, 41 'D' and 2 'I' are in 1st cluster, 3 'D' and 54 'R' are in second cluster "
   ]
  },
  {
   "cell_type": "code",
   "execution_count": 14,
   "metadata": {},
   "outputs": [
    {
     "data": {
      "image/png": "[encoded data removed]",
      "text/plain": [
       "<matplotlib.figure.Figure at 0x1eb2aec2a58>"
      ]
     },
     "metadata": {},
     "output_type": "display_data"
    }
   ],
   "source": [
    "labels = model.labels_\n",
    "plt.scatter(x=senator_distances[:,0], y=senator_distances[:,1], c=labels)\n",
    "plt.xlabel('distance to 1st cluster')\n",
    "plt.ylabel('distance to 2st cluster');"
   ]
  },
  {
   "cell_type": "code",
   "execution_count": 32,
   "metadata": {},
   "outputs": [
    {
     "data": {
      "text/plain": [
       "<matplotlib.text.Text at 0x1eb2b2e9eb8>"
      ]
     },
     "execution_count": 32,
     "metadata": {},
     "output_type": "execute_result"
    },
    {
     "data": {
      "image/png": "[encoded data removed]",
      "text/plain": [
       "<matplotlib.figure.Figure at 0x1eb2b183198>"
      ]
     },
     "metadata": {},
     "output_type": "display_data"
    }
   ],
   "source": [
    "# could not color the 3 parties, only showing 2 colors. Why??? (tried mulitple cmap, and ...)\n",
    "# probably the 2 'I's were overlapped by other colors.\n",
    "labels = model.labels_\n",
    "plt.scatter(x=senator_distances[:,0], y=senator_distances[:,1], \n",
    "            c=votes['party'].astype('category').values.codes, cmap='cool')\n",
    "plt.xlabel('distance to 1st cluster')\n",
    "plt.ylabel('distance to 2st cluster')\n",
    "plt.title('votes colored by parties');"
   ]
  },
  {
   "cell_type": "code",
   "execution_count": 53,
   "metadata": {},
   "outputs": [
    {
     "name": "stdout",
     "output_type": "stream",
     "text": [
      "[50 79]\n"
     ]
    }
   ],
   "source": [
    "print(votes[votes['party']=='I'].index.values)"
   ]
  },
  {
   "cell_type": "code",
   "execution_count": 54,
   "metadata": {},
   "outputs": [
    {
     "data": {
      "image/png": "[encoded data removed]",
      "text/plain": [
       "<matplotlib.figure.Figure at 0x1eb2b2e9358>"
      ]
     },
     "metadata": {},
     "output_type": "display_data"
    }
   ],
   "source": [
    "# to avoid overlapping, plot the 2 independent votes after plotting the others:\n",
    "I_index = votes[votes['party']=='I'].index.values\n",
    "DR_index = votes[votes['party'] != 'I'].index.values\n",
    "plt.scatter(x=senator_distances[DR_index,0], y=senator_distances[DR_index,1], \n",
    "            c=votes['party'].astype('category').values.codes[DR_index], cmap='cool')\n",
    "plt.scatter(x=senator_distances[I_index,0], y=senator_distances[I_index,1], \n",
    "            c='k')\n",
    "plt.xlabel('distance to 1st cluster')\n",
    "plt.ylabel('distance to 2st cluster')\n",
    "plt.title('votes colored by parties');"
   ]
  },
  {
   "cell_type": "code",
   "execution_count": 34,
   "metadata": {},
   "outputs": [
    {
     "name": "stdout",
     "output_type": "stream",
     "text": [
      "42    Heitkamp\n",
      "56     Manchin\n",
      "74        Reid\n",
      "Name: name, dtype: object\n"
     ]
    }
   ],
   "source": [
    "# find out the names of 3 'outlier\" democrates:\n",
    "print(votes[(labels==1) & (votes['party']=='D')]['name'])"
   ]
  },
  {
   "cell_type": "code",
   "execution_count": 47,
   "metadata": {},
   "outputs": [
    {
     "name": "stdout",
     "output_type": "stream",
     "text": [
      "          name party state  00001  00004  00005  00006  00007  00008  00009  \\\n",
      "45      Hoeven     R    ND    0.0    1.0    1.0    1.0    1.0    0.0    1.0   \n",
      "15      Carper     D    DE    0.0    0.0    0.0    1.0    0.0    1.0    0.0   \n",
      "25       Crapo     R    ID    0.0    1.0    1.0    1.0    1.0    0.0    1.0   \n",
      "37  Gillibrand     D    NY    1.0    0.0    0.0    1.0    0.0    1.0    0.0   \n",
      "27      Daines     R    MT    0.0    1.0    1.0    1.0    1.0    0.0    1.0   \n",
      "40       Hatch     R    UT    0.0    1.0    1.0    1.0    1.0    0.0    1.0   \n",
      "20     Collins     R    ME    0.0    1.0    1.0    1.0    1.0    0.0    0.0   \n",
      "3     Barrasso     R    WY    0.0    1.0    1.0    1.0    1.0    0.0    1.0   \n",
      "31       Ernst     R    IA    0.0    1.0    1.0    1.0    1.0    0.0    1.0   \n",
      "89      Tester     D    MT    0.0    0.0    0.0    1.0    0.0    0.0    0.0   \n",
      "33     Fischer     R    NE    0.0    1.0    1.0    1.0    1.0    0.0    1.0   \n",
      "8      Boozman     R    AR    0.0    1.0    1.0    1.0    1.0    0.0    1.0   \n",
      "60   McConnell     R    KY    0.0    1.0    1.0    1.0    1.0    0.0    1.0   \n",
      "11        Burr     R    NC    0.0    1.0    0.0    1.0    1.0    0.0    1.0   \n",
      "61    Menendez     D    NJ    1.0    0.0    0.0    1.0    0.0    1.0    0.0   \n",
      "98      Wicker     R    MS    0.0    1.0    1.0    1.0    1.0    0.0    1.0   \n",
      "38      Graham     R    SC    0.0    1.0    1.0    1.0    1.0    0.0    1.0   \n",
      "65   Murkowski     R    AK    0.0    1.0    1.0    1.0    1.0    0.0    1.0   \n",
      "67      Murray     D    WA    1.0    0.0    0.0    1.0    0.0    1.0    0.0   \n",
      "90       Thune     R    SD    0.0    1.0    1.0    1.0    1.0    0.0    1.0   \n",
      "69        Paul     R    KY    0.0    1.0    1.0    0.0    1.0    0.0    1.0   \n",
      "55         Lee     R    UT    0.0    1.0    1.0    0.0    1.0    0.0    1.0   \n",
      "6        Blunt     R    MO    0.0    1.0    1.0    1.0    1.0    0.0    1.0   \n",
      "1       Ayotte     R    NH    0.0    1.0    1.0    1.0    1.0    0.0    0.0   \n",
      "66      Murphy     D    CT    1.0    0.0    0.0    1.0    0.0    1.0    0.0   \n",
      "5   Blumenthal     D    CT    1.0    0.0    0.0    1.0    0.0    1.0    0.0   \n",
      "88    Sullivan     R    AK    0.0    1.0    1.0    1.0    1.0    0.0    1.0   \n",
      "2      Baldwin     D    WI    1.0    0.0    0.0    1.0    0.0    1.0    0.0   \n",
      "9        Boxer     D    CA    0.5    0.0    0.0    1.0    0.0    1.0    0.0   \n",
      "14      Cardin     D    MD    1.0    0.0    0.0    1.0    0.0    1.0    0.0   \n",
      "\n",
      "    00010  00020  00026  00032  00038  00039  00044  00047     close  far away  \n",
      "45    1.0    1.0    1.0    0.0    0.0    1.0    0.0    0.0  0.241984  3.420048  \n",
      "15    1.0    0.0    0.0    0.0    1.0    0.0    1.0    1.0  0.241984  3.420048  \n",
      "25    1.0    1.0    1.0    0.0    0.0    1.0    0.0    0.0  0.241984  3.420048  \n",
      "37    1.0    0.0    0.0    1.0    1.0    0.0    1.0    1.0  0.241984  3.420048  \n",
      "27    1.0    1.0    1.0    0.0    0.0    1.0    0.0    0.0  0.241984  3.420048  \n",
      "40    1.0    1.0    1.0    0.0    0.0    1.0    0.0    0.0  0.241984  3.420048  \n",
      "20    1.0    0.0    1.0    0.0    1.0    0.0    1.0    0.0  0.241984  3.420048  \n",
      "3     1.0    1.0    1.0    0.0    0.0    1.0    0.0    0.0  0.241984  3.420048  \n",
      "31    1.0    1.0    1.0    0.0    0.0    1.0    0.0    0.0  0.241984  3.420048  \n",
      "89    1.0    0.0    0.0    0.0    1.0    0.0    1.0    0.0  0.241984  3.420048  \n",
      "33    1.0    1.0    1.0    0.0    0.0    1.0    0.0    0.0  0.241984  3.420048  \n",
      "8     1.0    1.0    1.0    0.0    0.0    1.0    0.0    0.0  0.241984  3.420048  \n",
      "60    1.0    1.0    1.0    0.0    0.0    1.0    0.0    0.0  0.241984  3.420048  \n",
      "11    1.0    1.0    1.0    0.0    0.0    1.0    0.0    0.0  0.241984  3.420048  \n",
      "61    1.0    0.0    0.0    1.0    1.0    0.0    1.0    1.0  0.241984  3.420048  \n",
      "98    0.0    1.0    1.0    0.0    0.0    1.0    0.0    0.0  0.241984  3.420048  \n",
      "38    1.0    0.5    0.5    0.0    0.0    1.0    0.0    0.0  0.241984  3.420048  \n",
      "65    1.0    1.0    1.0    0.0    0.0    1.0    0.0    0.0  0.241984  3.420048  \n",
      "67    1.0    0.0    0.0    1.0    1.0    0.0    1.0    1.0  0.241984  3.420048  \n",
      "90    1.0    1.0    1.0    0.0    0.0    1.0    0.0    0.0  0.241984  3.420048  \n",
      "69    1.0    1.0    1.0    0.0    0.0    1.0    0.0    0.0  0.241984  3.420048  \n",
      "55    1.0    0.5    0.5    0.0    0.0    1.0    0.0    0.0  0.241984  3.420048  \n",
      "6     1.0    1.0    1.0    0.0    0.0    1.0    0.0    0.0  0.241984  3.420048  \n",
      "1     1.0    0.0    1.0    0.0    1.0    0.0    1.0    0.0  0.241984  3.420048  \n",
      "66    1.0    0.0    0.0    1.0    1.0    0.0    1.0    1.0  0.241984  3.420048  \n",
      "5     1.0    0.0    0.0    1.0    1.0    0.0    1.0    1.0  0.241984  3.420048  \n",
      "88    1.0    1.0    1.0    0.0    0.0    1.0    0.0    0.0  0.241984  3.420048  \n",
      "2     1.0    0.0    0.0    1.0    1.0    0.0    1.0    1.0  0.241984  3.420048  \n",
      "9     1.0    0.0    0.0    1.0    1.0    0.0    1.0    1.0  0.241984  3.420048  \n",
      "14    1.0    0.0    0.0    1.0    1.0    0.0    1.0    1.0  0.241984  3.420048  \n",
      "          name party state  00001  00004  00005  00006  00007  00008  00009  \\\n",
      "47     Isakson     R    GA    0.0    1.0    1.0    1.0    1.0    0.0    1.0   \n",
      "87    Stabenow     D    MI    0.0    0.0    0.0    1.0    0.0    1.0    0.0   \n",
      "41    Heinrich     D    NM    0.0    0.0    0.0    1.0    0.0    1.0    0.0   \n",
      "72     Portman     R    OH    0.0    1.0    1.0    1.0    1.0    0.0    1.0   \n",
      "0    Alexander     R    TN    0.0    1.0    1.0    1.0    1.0    0.0    0.0   \n",
      "45      Hoeven     R    ND    0.0    1.0    1.0    1.0    1.0    0.0    1.0   \n",
      "53    Lankford     R    OK    0.0    1.0    1.0    0.0    1.0    0.0    1.0   \n",
      "66      Murphy     D    CT    1.0    0.0    0.0    1.0    0.0    1.0    0.0   \n",
      "5   Blumenthal     D    CT    1.0    0.0    0.0    1.0    0.0    1.0    0.0   \n",
      "88    Sullivan     R    AK    0.0    1.0    1.0    1.0    1.0    0.0    1.0   \n",
      "9        Boxer     D    CA    0.5    0.0    0.0    1.0    0.0    1.0    0.0   \n",
      "14      Cardin     D    MD    1.0    0.0    0.0    1.0    0.0    1.0    0.0   \n",
      "49       Kaine     D    VA    1.0    0.0    0.0    1.0    0.0    1.0    0.0   \n",
      "7       Booker     D    NJ    1.0    0.0    0.0    1.0    0.0    1.0    0.0   \n",
      "82     Schumer     D    NY    1.0    0.0    0.0    1.0    0.0    1.0    0.0   \n",
      "30        Enzi     R    WY    0.0    1.0    1.0    1.0    1.0    0.0    1.0   \n",
      "6        Blunt     R    MO    0.0    1.0    1.0    1.0    1.0    0.0    1.0   \n",
      "17     Cassidy     R    LA    0.0    1.0    1.0    1.0    1.0    0.0    1.0   \n",
      "70      Perdue     R    GA    0.0    1.0    1.0    1.0    1.0    0.0    1.0   \n",
      "23      Cornyn     R    TX    0.0    1.0    1.0    1.0    1.0    0.0    1.0   \n",
      "15      Carper     D    DE    0.0    0.0    0.0    1.0    0.0    1.0    0.0   \n",
      "1       Ayotte     R    NH    0.0    1.0    1.0    1.0    1.0    0.0    0.0   \n",
      "2      Baldwin     D    WI    1.0    0.0    0.0    1.0    0.0    1.0    0.0   \n",
      "55         Lee     R    UT    0.0    1.0    1.0    0.0    1.0    0.0    1.0   \n",
      "8      Boozman     R    AR    0.0    1.0    1.0    1.0    1.0    0.0    1.0   \n",
      "25       Crapo     R    ID    0.0    1.0    1.0    1.0    1.0    0.0    1.0   \n",
      "37  Gillibrand     D    NY    1.0    0.0    0.0    1.0    0.0    1.0    0.0   \n",
      "27      Daines     R    MT    0.0    1.0    1.0    1.0    1.0    0.0    1.0   \n",
      "40       Hatch     R    UT    0.0    1.0    1.0    1.0    1.0    0.0    1.0   \n",
      "20     Collins     R    ME    0.0    1.0    1.0    1.0    1.0    0.0    0.0   \n",
      "\n",
      "    00010  00020  00026  00032  00038  00039  00044  00047     close  far away  \n",
      "47    1.0    1.0    1.0    0.0    0.0    1.0    0.0    0.0  0.930362  3.563247  \n",
      "87    1.0    0.0    0.0    1.0    1.0    0.0    1.0    1.0  0.930362  3.563247  \n",
      "41    1.0    0.0    0.0    1.0    1.0    0.0    1.0    1.0  0.930362  3.563247  \n",
      "72    1.0    1.0    1.0    0.0    0.0    1.0    0.0    0.0  0.930362  3.563247  \n",
      "0     1.0    1.0    1.0    0.0    0.0    0.0    0.0    0.0  1.002958  3.563247  \n",
      "45    1.0    1.0    1.0    0.0    0.0    1.0    0.0    0.0  0.241984  3.420048  \n",
      "53    1.0    1.0    1.0    0.0    0.0    1.0    0.0    0.0  0.241984  3.420048  \n",
      "66    1.0    0.0    0.0    1.0    1.0    0.0    1.0    1.0  0.241984  3.420048  \n",
      "5     1.0    0.0    0.0    1.0    1.0    0.0    1.0    1.0  0.241984  3.420048  \n",
      "88    1.0    1.0    1.0    0.0    0.0    1.0    0.0    0.0  0.241984  3.420048  \n",
      "9     1.0    0.0    0.0    1.0    1.0    0.0    1.0    1.0  0.241984  3.420048  \n",
      "14    1.0    0.0    0.0    1.0    1.0    0.0    1.0    1.0  0.241984  3.420048  \n",
      "49    1.0    0.0    0.0    1.0    1.0    0.0    1.0    0.0  0.241984  3.420048  \n",
      "7     1.0    0.0    0.0    1.0    1.0    0.0    1.0    1.0  0.241984  3.420048  \n",
      "82    1.0    0.0    0.0    1.0    1.0    0.0    1.0    1.0  0.241984  3.420048  \n",
      "30    1.0    1.0    1.0    0.0    0.0    1.0    0.0    0.0  0.241984  3.420048  \n",
      "6     1.0    1.0    1.0    0.0    0.0    1.0    0.0    0.0  0.241984  3.420048  \n",
      "17    1.0    1.0    1.0    0.0    0.0    1.0    0.0    0.0  0.241984  3.420048  \n",
      "70    1.0    1.0    1.0    0.0    0.0    1.0    0.0    0.0  0.241984  3.420048  \n",
      "23    1.0    1.0    1.0    0.0    0.0    1.0    0.0    0.0  0.241984  3.420048  \n",
      "15    1.0    0.0    0.0    0.0    1.0    0.0    1.0    1.0  0.241984  3.420048  \n",
      "1     1.0    0.0    1.0    0.0    1.0    0.0    1.0    0.0  0.241984  3.420048  \n",
      "2     1.0    0.0    0.0    1.0    1.0    0.0    1.0    1.0  0.241984  3.420048  \n",
      "55    1.0    0.5    0.5    0.0    0.0    1.0    0.0    0.0  0.241984  3.420048  \n",
      "8     1.0    1.0    1.0    0.0    0.0    1.0    0.0    0.0  0.241984  3.420048  \n",
      "25    1.0    1.0    1.0    0.0    0.0    1.0    0.0    0.0  0.241984  3.420048  \n",
      "37    1.0    0.0    0.0    1.0    1.0    0.0    1.0    1.0  0.241984  3.420048  \n",
      "27    1.0    1.0    1.0    0.0    0.0    1.0    0.0    0.0  0.241984  3.420048  \n",
      "40    1.0    1.0    1.0    0.0    0.0    1.0    0.0    0.0  0.241984  3.420048  \n",
      "20    1.0    0.0    1.0    0.0    1.0    0.0    1.0    0.0  0.241984  3.420048  \n"
     ]
    }
   ],
   "source": [
    "# who is party loyalty or extreme? are closest to a cluster ceter is same as furthest to another?\n",
    "votes['close'] = np.min(senator_distances, axis=1)\n",
    "votes['far away'] = np.max(senator_distances, axis=1)\n",
    "votes.sort_values('close', inplace=True, ascending=True)\n",
    "print(votes.head(30))\n",
    "names1 = votes.head(30)['name']\n",
    "votes.sort_values('far away', inplace=True, ascending=False)\n",
    "print(votes.head(30))\n",
    "names2 = votes.head(30)['name']"
   ]
  },
  {
   "cell_type": "code",
   "execution_count": 48,
   "metadata": {},
   "outputs": [
    {
     "name": "stdout",
     "output_type": "stream",
     "text": [
      "['Lee', 'Murphy', 'Cardin', 'Boozman', 'Ayotte', 'Gillibrand', 'Sullivan', 'Crapo', 'Collins', 'Hoeven', 'Boxer', 'Baldwin', 'Blumenthal', 'Blunt', 'Daines', 'Hatch', 'Carper']\n"
     ]
    }
   ],
   "source": [
    "same_names = list(set(names1) & set(names2))\n",
    "print(same_names)"
   ]
  },
  {
   "cell_type": "markdown",
   "metadata": {},
   "source": [
    " This method does not work!!! Too many senators voted with the same closeset distance to one cluster !!!. But it seams to tell the the smallest distance to one cluster is not furthest to another cluster, therefore there is no good way to judge 'extremes' with these data."
   ]
  },
  {
   "cell_type": "markdown",
   "metadata": {},
   "source": [
    "The instructor use the sum of distances to both parties to identify \"extremism\" for partism, that does not make sence to me!"
   ]
  },
  {
   "cell_type": "markdown",
   "metadata": {},
   "source": [
    "__________________\n",
    "# Visualizing the process of k-mean learning\n",
    "Initialize k positions in data. Plotting the data clustering with different color during each loop of learning. <br>\n",
    "skip the coding. See lecture for details"
   ]
  },
  {
   "cell_type": "code",
   "execution_count": 49,
   "metadata": {
    "collapsed": true
   },
   "outputs": [],
   "source": [
    "nba = pd.read_csv('../../../dataquest/datafile/6-5-6-nba_2013.csv')"
   ]
  },
  {
   "cell_type": "code",
   "execution_count": 50,
   "metadata": {},
   "outputs": [
    {
     "data": {
      "text/html": [
       "<div>\n",
       "<style scoped>\n",
       "    .dataframe tbody tr th:only-of-type {\n",
       "        vertical-align: middle;\n",
       "    }\n",
       "\n",
       "    .dataframe tbody tr th {\n",
       "        vertical-align: top;\n",
       "    }\n",
       "\n",
       "    .dataframe thead th {\n",
       "        text-align: right;\n",
       "    }\n",
       "</style>\n",
       "<table border=\"1\" class=\"dataframe\">\n",
       "  <thead>\n",
       "    <tr style=\"text-align: right;\">\n",
       "      <th></th>\n",
       "      <th>player</th>\n",
       "      <th>pos</th>\n",
       "      <th>age</th>\n",
       "      <th>bref_team_id</th>\n",
       "      <th>g</th>\n",
       "      <th>gs</th>\n",
       "      <th>mp</th>\n",
       "      <th>fg</th>\n",
       "      <th>fga</th>\n",
       "      <th>fg.</th>\n",
       "      <th>...</th>\n",
       "      <th>drb</th>\n",
       "      <th>trb</th>\n",
       "      <th>ast</th>\n",
       "      <th>stl</th>\n",
       "      <th>blk</th>\n",
       "      <th>tov</th>\n",
       "      <th>pf</th>\n",
       "      <th>pts</th>\n",
       "      <th>season</th>\n",
       "      <th>season_end</th>\n",
       "    </tr>\n",
       "  </thead>\n",
       "  <tbody>\n",
       "    <tr>\n",
       "      <th>0</th>\n",
       "      <td>Quincy Acy</td>\n",
       "      <td>SF</td>\n",
       "      <td>23</td>\n",
       "      <td>TOT</td>\n",
       "      <td>63</td>\n",
       "      <td>0</td>\n",
       "      <td>847</td>\n",
       "      <td>66</td>\n",
       "      <td>141</td>\n",
       "      <td>0.468</td>\n",
       "      <td>...</td>\n",
       "      <td>144</td>\n",
       "      <td>216</td>\n",
       "      <td>28</td>\n",
       "      <td>23</td>\n",
       "      <td>26</td>\n",
       "      <td>30</td>\n",
       "      <td>122</td>\n",
       "      <td>171</td>\n",
       "      <td>2013-2014</td>\n",
       "      <td>2013</td>\n",
       "    </tr>\n",
       "    <tr>\n",
       "      <th>1</th>\n",
       "      <td>Steven Adams</td>\n",
       "      <td>C</td>\n",
       "      <td>20</td>\n",
       "      <td>OKC</td>\n",
       "      <td>81</td>\n",
       "      <td>20</td>\n",
       "      <td>1197</td>\n",
       "      <td>93</td>\n",
       "      <td>185</td>\n",
       "      <td>0.503</td>\n",
       "      <td>...</td>\n",
       "      <td>190</td>\n",
       "      <td>332</td>\n",
       "      <td>43</td>\n",
       "      <td>40</td>\n",
       "      <td>57</td>\n",
       "      <td>71</td>\n",
       "      <td>203</td>\n",
       "      <td>265</td>\n",
       "      <td>2013-2014</td>\n",
       "      <td>2013</td>\n",
       "    </tr>\n",
       "    <tr>\n",
       "      <th>2</th>\n",
       "      <td>Jeff Adrien</td>\n",
       "      <td>PF</td>\n",
       "      <td>27</td>\n",
       "      <td>TOT</td>\n",
       "      <td>53</td>\n",
       "      <td>12</td>\n",
       "      <td>961</td>\n",
       "      <td>143</td>\n",
       "      <td>275</td>\n",
       "      <td>0.520</td>\n",
       "      <td>...</td>\n",
       "      <td>204</td>\n",
       "      <td>306</td>\n",
       "      <td>38</td>\n",
       "      <td>24</td>\n",
       "      <td>36</td>\n",
       "      <td>39</td>\n",
       "      <td>108</td>\n",
       "      <td>362</td>\n",
       "      <td>2013-2014</td>\n",
       "      <td>2013</td>\n",
       "    </tr>\n",
       "    <tr>\n",
       "      <th>3</th>\n",
       "      <td>Arron Afflalo</td>\n",
       "      <td>SG</td>\n",
       "      <td>28</td>\n",
       "      <td>ORL</td>\n",
       "      <td>73</td>\n",
       "      <td>73</td>\n",
       "      <td>2552</td>\n",
       "      <td>464</td>\n",
       "      <td>1011</td>\n",
       "      <td>0.459</td>\n",
       "      <td>...</td>\n",
       "      <td>230</td>\n",
       "      <td>262</td>\n",
       "      <td>248</td>\n",
       "      <td>35</td>\n",
       "      <td>3</td>\n",
       "      <td>146</td>\n",
       "      <td>136</td>\n",
       "      <td>1330</td>\n",
       "      <td>2013-2014</td>\n",
       "      <td>2013</td>\n",
       "    </tr>\n",
       "    <tr>\n",
       "      <th>4</th>\n",
       "      <td>Alexis Ajinca</td>\n",
       "      <td>C</td>\n",
       "      <td>25</td>\n",
       "      <td>NOP</td>\n",
       "      <td>56</td>\n",
       "      <td>30</td>\n",
       "      <td>951</td>\n",
       "      <td>136</td>\n",
       "      <td>249</td>\n",
       "      <td>0.546</td>\n",
       "      <td>...</td>\n",
       "      <td>183</td>\n",
       "      <td>277</td>\n",
       "      <td>40</td>\n",
       "      <td>23</td>\n",
       "      <td>46</td>\n",
       "      <td>63</td>\n",
       "      <td>187</td>\n",
       "      <td>328</td>\n",
       "      <td>2013-2014</td>\n",
       "      <td>2013</td>\n",
       "    </tr>\n",
       "  </tbody>\n",
       "</table>\n",
       "<p>5 rows × 31 columns</p>\n",
       "</div>"
      ],
      "text/plain": [
       "          player pos  age bref_team_id   g  gs    mp   fg   fga    fg.  \\\n",
       "0     Quincy Acy  SF   23          TOT  63   0   847   66   141  0.468   \n",
       "1   Steven Adams   C   20          OKC  81  20  1197   93   185  0.503   \n",
       "2    Jeff Adrien  PF   27          TOT  53  12   961  143   275  0.520   \n",
       "3  Arron Afflalo  SG   28          ORL  73  73  2552  464  1011  0.459   \n",
       "4  Alexis Ajinca   C   25          NOP  56  30   951  136   249  0.546   \n",
       "\n",
       "      ...      drb  trb  ast  stl  blk  tov   pf   pts     season  season_end  \n",
       "0     ...      144  216   28   23   26   30  122   171  2013-2014        2013  \n",
       "1     ...      190  332   43   40   57   71  203   265  2013-2014        2013  \n",
       "2     ...      204  306   38   24   36   39  108   362  2013-2014        2013  \n",
       "3     ...      230  262  248   35    3  146  136  1330  2013-2014        2013  \n",
       "4     ...      183  277   40   23   46   63  187   328  2013-2014        2013  \n",
       "\n",
       "[5 rows x 31 columns]"
      ]
     },
     "execution_count": 50,
     "metadata": {},
     "output_type": "execute_result"
    }
   ],
   "source": [
    "nba.head()"
   ]
  },
  {
   "cell_type": "markdown",
   "metadata": {},
   "source": []
  }
 ],
 "metadata": {
  "kernelspec": {
   "display_name": "Python 3",
   "language": "python",
   "name": "python3"
  },
  "language_info": {
   "codemirror_mode": {
    "name": "ipython",
    "version": 3
   },
   "file_extension": ".py",
   "mimetype": "text/x-python",
   "name": "python",
   "nbconvert_exporter": "python",
   "pygments_lexer": "ipython3",
   "version": "3.5.4"
  }
 },
 "nbformat": 4,
 "nbformat_minor": 2
}
