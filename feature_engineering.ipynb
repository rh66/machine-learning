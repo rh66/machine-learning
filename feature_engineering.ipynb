{
 "cells": [
  {
   "cell_type": "markdown",
   "metadata": {},
   "source": [
    "These exercises are part of practice in Chaperter 6 \"Machine Learning\", of online courses \"Become a data scientist\" [www.dataquest.io](https://www.dataquest.io/) "
   ]
  },
  {
   "cell_type": "markdown",
   "metadata": {},
   "source": [
    "<i> In general, ** data preparation ** may include feature selection, outlier removal, encoding, feature scaling and projection methods for dimensionality reduction, and more. </i>"
   ]
  },
  {
   "cell_type": "markdown",
   "metadata": {},
   "source": [
    "## - Data preparation for linear gression <br>\n",
    "<i> select_dtypes, drop, Seanborn heatmap plot of corr; </i> <br>\n",
    "<i> feature selection: non-negligible correlation to target; non-collinearity; non-negligible variance; </i> <br>\n",
    "<i> Dummy coding of categorical data;</i> <br>\n",
    "<i> Imputation: fill missing data; <br>\n",
    "KFold & cross_val_score"
   ]
  },
  {
   "cell_type": "markdown",
   "metadata": {},
   "source": [
    "# Example of feature preparation for LR"
   ]
  },
  {
   "cell_type": "code",
   "execution_count": 123,
   "metadata": {
    "collapsed": true
   },
   "outputs": [],
   "source": [
    "import pandas as pd\n",
    "import numpy as np\n",
    "from sklearn.linear_model import LinearRegression\n",
    "from sklearn.metrics import mean_squared_error\n",
    "from sklearn.model_selection import cross_val_score, KFold\n",
    "import seaborn\n",
    "import matplotlib.pyplot as plt\n",
    "%matplotlib inline"
   ]
  },
  {
   "cell_type": "code",
   "execution_count": 3,
   "metadata": {
    "collapsed": true
   },
   "outputs": [],
   "source": [
    "data = pd.read_csv('../../../dataquest/datafile/6-4-1-AmesHousing.txt', \n",
    "                   delimiter='\\t')"
   ]
  },
  {
   "cell_type": "code",
   "execution_count": 4,
   "metadata": {},
   "outputs": [
    {
     "name": "stdout",
     "output_type": "stream",
     "text": [
      "<class 'pandas.core.frame.DataFrame'>\n",
      "RangeIndex: 1460 entries, 0 to 1459\n",
      "Data columns (total 82 columns):\n",
      "Order              1460 non-null int64\n",
      "PID                1460 non-null int64\n",
      "MS SubClass        1460 non-null int64\n",
      "MS Zoning          1460 non-null object\n",
      "Lot Frontage       1211 non-null float64\n",
      "Lot Area           1460 non-null int64\n",
      "Street             1460 non-null object\n",
      "Alley              109 non-null object\n",
      "Lot Shape          1460 non-null object\n",
      "Land Contour       1460 non-null object\n",
      "Utilities          1460 non-null object\n",
      "Lot Config         1460 non-null object\n",
      "Land Slope         1460 non-null object\n",
      "Neighborhood       1460 non-null object\n",
      "Condition 1        1460 non-null object\n",
      "Condition 2        1460 non-null object\n",
      "Bldg Type          1460 non-null object\n",
      "House Style        1460 non-null object\n",
      "Overall Qual       1460 non-null int64\n",
      "Overall Cond       1460 non-null int64\n",
      "Year Built         1460 non-null int64\n",
      "Year Remod/Add     1460 non-null int64\n",
      "Roof Style         1460 non-null object\n",
      "Roof Matl          1460 non-null object\n",
      "Exterior 1st       1460 non-null object\n",
      "Exterior 2nd       1460 non-null object\n",
      "Mas Vnr Type       1449 non-null object\n",
      "Mas Vnr Area       1449 non-null float64\n",
      "Exter Qual         1460 non-null object\n",
      "Exter Cond         1460 non-null object\n",
      "Foundation         1460 non-null object\n",
      "Bsmt Qual          1420 non-null object\n",
      "Bsmt Cond          1420 non-null object\n",
      "Bsmt Exposure      1419 non-null object\n",
      "BsmtFin Type 1     1420 non-null object\n",
      "BsmtFin SF 1       1459 non-null float64\n",
      "BsmtFin Type 2     1419 non-null object\n",
      "BsmtFin SF 2       1459 non-null float64\n",
      "Bsmt Unf SF        1459 non-null float64\n",
      "Total Bsmt SF      1459 non-null float64\n",
      "Heating            1460 non-null object\n",
      "Heating QC         1460 non-null object\n",
      "Central Air        1460 non-null object\n",
      "Electrical         1460 non-null object\n",
      "1st Flr SF         1460 non-null int64\n",
      "2nd Flr SF         1460 non-null int64\n",
      "Low Qual Fin SF    1460 non-null int64\n",
      "Gr Liv Area        1460 non-null int64\n",
      "Bsmt Full Bath     1459 non-null float64\n",
      "Bsmt Half Bath     1459 non-null float64\n",
      "Full Bath          1460 non-null int64\n",
      "Half Bath          1460 non-null int64\n",
      "Bedroom AbvGr      1460 non-null int64\n",
      "Kitchen AbvGr      1460 non-null int64\n",
      "Kitchen Qual       1460 non-null object\n",
      "TotRms AbvGrd      1460 non-null int64\n",
      "Functional         1460 non-null object\n",
      "Fireplaces         1460 non-null int64\n",
      "Fireplace Qu       743 non-null object\n",
      "Garage Type        1386 non-null object\n",
      "Garage Yr Blt      1385 non-null float64\n",
      "Garage Finish      1385 non-null object\n",
      "Garage Cars        1460 non-null float64\n",
      "Garage Area        1460 non-null float64\n",
      "Garage Qual        1385 non-null object\n",
      "Garage Cond        1385 non-null object\n",
      "Paved Drive        1460 non-null object\n",
      "Wood Deck SF       1460 non-null int64\n",
      "Open Porch SF      1460 non-null int64\n",
      "Enclosed Porch     1460 non-null int64\n",
      "3Ssn Porch         1460 non-null int64\n",
      "Screen Porch       1460 non-null int64\n",
      "Pool Area          1460 non-null int64\n",
      "Pool QC            1 non-null object\n",
      "Fence              297 non-null object\n",
      "Misc Feature       60 non-null object\n",
      "Misc Val           1460 non-null int64\n",
      "Mo Sold            1460 non-null int64\n",
      "Yr Sold            1460 non-null int64\n",
      "Sale Type          1460 non-null object\n",
      "Sale Condition     1460 non-null object\n",
      "SalePrice          1460 non-null int64\n",
      "dtypes: float64(11), int64(28), object(43)\n",
      "memory usage: 935.4+ KB\n",
      "None\n"
     ]
    }
   ],
   "source": [
    "target = 'SalePrice'\n",
    "train = data[:1460]\n",
    "test = data[1460:]\n",
    "print(train.info())  "
   ]
  },
  {
   "cell_type": "code",
   "execution_count": 5,
   "metadata": {},
   "outputs": [
    {
     "name": "stdout",
     "output_type": "stream",
     "text": [
      "Order                0\n",
      "MS SubClass          0\n",
      "Lot Frontage       249\n",
      "Lot Area             0\n",
      "Overall Qual         0\n",
      "Overall Cond         0\n",
      "Mas Vnr Area        11\n",
      "BsmtFin SF 1         1\n",
      "BsmtFin SF 2         1\n",
      "Bsmt Unf SF          1\n",
      "Total Bsmt SF        1\n",
      "1st Flr SF           0\n",
      "2nd Flr SF           0\n",
      "Low Qual Fin SF      0\n",
      "Gr Liv Area          0\n",
      "Bsmt Full Bath       1\n",
      "Bsmt Half Bath       1\n",
      "Full Bath            0\n",
      "Half Bath            0\n",
      "Bedroom AbvGr        0\n",
      "Kitchen AbvGr        0\n",
      "TotRms AbvGrd        0\n",
      "Fireplaces           0\n",
      "Garage Cars          0\n",
      "Garage Area          0\n",
      "Wood Deck SF         0\n",
      "Open Porch SF        0\n",
      "Enclosed Porch       0\n",
      "3Ssn Porch           0\n",
      "Screen Porch         0\n",
      "Pool Area            0\n",
      "Misc Val             0\n",
      "SalePrice            0\n",
      "dtype: int64\n"
     ]
    }
   ],
   "source": [
    "numerical_train = train.select_dtypes(include=['int64', 'float'])\n",
    "# has to be 'int64'. In instruction, it was 'int' but it doesn't work here\n",
    "numerical_train = numerical_train.drop(['PID', 'Year Built', 'Year Remod/Add',\n",
    "                        'Garage Yr Blt', 'Mo Sold', 'Yr Sold'], axis=1)\n",
    "null_series = numerical_train.isnull().sum()\n",
    "print(null_series)"
   ]
  },
  {
   "cell_type": "code",
   "execution_count": 6,
   "metadata": {},
   "outputs": [
    {
     "name": "stdout",
     "output_type": "stream",
     "text": [
      "25\n"
     ]
    }
   ],
   "source": [
    "full_cols_series = null_series[null_series == 0]\n",
    "print(len(full_cols_series))"
   ]
  },
  {
   "cell_type": "markdown",
   "metadata": {},
   "source": [
    "### Find columns apparently affect price & remove non relevent ones: "
   ]
  },
  {
   "cell_type": "code",
   "execution_count": 7,
   "metadata": {},
   "outputs": [
    {
     "name": "stdout",
     "output_type": "stream",
     "text": [
      "Misc Val           0.009903\n",
      "3Ssn Porch         0.038699\n",
      "Low Qual Fin SF    0.060352\n",
      "Order              0.068181\n",
      "MS SubClass        0.088504\n",
      "Overall Cond       0.099395\n",
      "Screen Porch       0.100121\n",
      "Bedroom AbvGr      0.106941\n",
      "Kitchen AbvGr      0.130843\n",
      "Pool Area          0.145474\n",
      "Enclosed Porch     0.165873\n",
      "2nd Flr SF         0.202352\n",
      "Half Bath          0.272870\n",
      "Lot Area           0.274730\n",
      "Wood Deck SF       0.319104\n",
      "Open Porch SF      0.344383\n",
      "TotRms AbvGrd      0.483701\n",
      "Fireplaces         0.485683\n",
      "Full Bath          0.518194\n",
      "1st Flr SF         0.657119\n",
      "Garage Area        0.662397\n",
      "Garage Cars        0.663485\n",
      "Gr Liv Area        0.698990\n",
      "Overall Qual       0.804562\n",
      "SalePrice          1.000000\n",
      "Name: SalePrice, dtype: float64\n"
     ]
    }
   ],
   "source": [
    "train_subset = train[full_cols_series.index]\n",
    "corrmat = train_subset.corr()\n",
    "sorted_corrs = corrmat['SalePrice'].abs().sort_values()\n",
    "print(sorted_corrs)"
   ]
  },
  {
   "cell_type": "markdown",
   "metadata": {},
   "source": [
    "### seaborn.heatmap(corr)"
   ]
  },
  {
   "cell_type": "code",
   "execution_count": 8,
   "metadata": {},
   "outputs": [
    {
     "data": {
      "text/plain": [
       "<matplotlib.axes._subplots.AxesSubplot at 0x1e527e50dd8>"
      ]
     },
     "execution_count": 8,
     "metadata": {},
     "output_type": "execute_result"
    },
    {
     "data": {
      "image/png": "[encoded data removed]",
      "text/plain": [
       "<matplotlib.figure.Figure at 0x1e527e24fd0>"
      ]
     },
     "metadata": {},
     "output_type": "display_data"
    }
   ],
   "source": [
    "strong_corrs = sorted_corrs[sorted_corrs > 0.3]\n",
    "corrmat = train_subset[strong_corrs.index].corr()\n",
    "seaborn.heatmap(corrmat)"
   ]
  },
  {
   "cell_type": "markdown",
   "metadata": {},
   "source": [
    "### drop one of each highly correlated column pair (collinearity)"
   ]
  },
  {
   "cell_type": "code",
   "execution_count": 9,
   "metadata": {},
   "outputs": [
    {
     "name": "stdout",
     "output_type": "stream",
     "text": [
      "34173.9762919\n",
      "41032.0261202\n"
     ]
    }
   ],
   "source": [
    "final_corr_cols = strong_corrs.drop(['Garage Cars', 'TotRms AbvGrd'])\n",
    "features = final_corr_cols.drop(target).index\n",
    "\n",
    "clean_test = test[final_corr_cols.index].dropna()\n",
    "\n",
    "lr = LinearRegression()\n",
    "lr.fit(train[features], train[target])\n",
    "\n",
    "train_predictions = lr.predict(train[features])\n",
    "test_predictions = lr.predict(clean_test[features])\n",
    "\n",
    "train_mse = mean_squared_error(train_predictions, train[target])\n",
    "test_mse = mean_squared_error(test_predictions, clean_test[target])\n",
    "\n",
    "train_rmse = np.sqrt(train_mse)\n",
    "test_rmse = np.sqrt(test_mse)\n",
    "\n",
    "print(train_rmse)\n",
    "print(test_rmse)"
   ]
  },
  {
   "cell_type": "markdown",
   "metadata": {},
   "source": [
    "### How about removing the feature with low variance ?\n",
    "For math calcuations, the pandas table is treated as if a variable"
   ]
  },
  {
   "cell_type": "code",
   "execution_count": 10,
   "metadata": {},
   "outputs": [
    {
     "name": "stdout",
     "output_type": "stream",
     "text": [
      "Open Porch SF    0.013938\n",
      "Full Bath        0.018621\n",
      "Garage Area      0.020347\n",
      "Gr Liv Area      0.023078\n",
      "Overall Qual     0.024496\n",
      "1st Flr SF       0.025814\n",
      "Wood Deck SF     0.033064\n",
      "Fireplaces       0.046589\n",
      "dtype: float64\n"
     ]
    }
   ],
   "source": [
    "unit_train = (train[features] - train[features].min())/(train[features].max()\n",
    "                - train[features].min())\n",
    "sorted_vars = unit_train.var().sort_values()\n",
    "print(sorted_vars)"
   ]
  },
  {
   "cell_type": "code",
   "execution_count": 11,
   "metadata": {},
   "outputs": [
    {
     "name": "stdout",
     "output_type": "stream",
     "text": [
      "34372.6967078\n",
      "40591.4270244\n"
     ]
    }
   ],
   "source": [
    "features = features.drop('Open Porch SF')\n",
    "\n",
    "lr = LinearRegression()\n",
    "lr.fit(train[features], train[target])\n",
    "\n",
    "train_predictions = lr.predict(train[features])\n",
    "test_predictions = lr.predict(clean_test[features])\n",
    "\n",
    "train_mse2 = mean_squared_error(train_predictions, train[target])\n",
    "test_mse2 = mean_squared_error(test_predictions, clean_test[target])\n",
    "\n",
    "train_rmse2 = np.sqrt(train_mse2)\n",
    "test_rmse2 = np.sqrt(test_mse2)\n",
    "\n",
    "print(train_rmse2)\n",
    "print(test_rmse2)"
   ]
  },
  {
   "cell_type": "markdown",
   "metadata": {},
   "source": [
    "# Ordinary Least Squares (OLS)\n",
    "It is normally used for problems with elements no more than few millions. On large dataset, gradient descent method should be used. <br>\n",
    "<br>\n",
    "OLS finds the solution for $Xa=y$, where $X\\in\\mathbb{R}^{m\\times n}$, is the matrix of m sets of samples with n features, $y\\in\\mathbb{R}^{m}$ is results of m trainings. $a\\in\\mathbb{R}^{n}$ is the coefficients to be found. OLS solution is:<br>\n",
    "    $a=(X^TX)^{-1}X^Ty$"
   ]
  },
  {
   "cell_type": "code",
   "execution_count": 12,
   "metadata": {},
   "outputs": [
    {
     "name": "stdout",
     "output_type": "stream",
     "text": [
      "[    53.75693376  18232.3137575   -6434.65300989     22.53151963\n",
      "     86.81522574     28.08976713  11397.64135314]\n"
     ]
    }
   ],
   "source": [
    "features = ['Wood Deck SF', 'Fireplaces', 'Full Bath', '1st Flr SF', \n",
    "            'Garage Area', 'Gr Liv Area', 'Overall Qual']\n",
    "X = train[features]\n",
    "y = train[target]\n",
    "\n",
    "first_term = np.linalg.inv(np.dot(np.transpose(X), X))\n",
    "second_term = np.dot(np.transpose(X), y)\n",
    "a = np.dot(first_term, second_term)\n",
    "print(a)"
   ]
  },
  {
   "cell_type": "markdown",
   "metadata": {},
   "source": [
    "# Categorical data: dummy coding\n",
    "No need to use train[one_text_col].astype('category'), or pd.Categorical, or pd.factorize https://stackoverflow.com/questions/38088652/pandas-convert-categories-to-numbers. Have not find a good example of using categorical code yet."
   ]
  },
  {
   "cell_type": "code",
   "execution_count": 21,
   "metadata": {},
   "outputs": [
    {
     "data": {
      "text/plain": [
       "AllPub    2927\n",
       "NoSewr       2\n",
       "NoSeWa       1\n",
       "Name: Utilities, dtype: int64"
      ]
     },
     "execution_count": 21,
     "metadata": {},
     "output_type": "execute_result"
    }
   ],
   "source": [
    "data['Utilities'].value_counts()"
   ]
  },
  {
   "cell_type": "code",
   "execution_count": 18,
   "metadata": {},
   "outputs": [
    {
     "name": "stdout",
     "output_type": "stream",
     "text": [
      "Index(['MS Zoning', 'Street', 'Lot Shape', 'Land Contour', 'Utilities',\n",
      "       'Lot Config', 'Land Slope', 'Neighborhood', 'Condition 1',\n",
      "       'Condition 2', 'Bldg Type', 'House Style', 'Roof Style', 'Roof Matl',\n",
      "       'Exterior 1st', 'Exterior 2nd', 'Exter Qual', 'Exter Cond',\n",
      "       'Foundation', 'Heating', 'Heating QC', 'Central Air', 'Electrical',\n",
      "       'Kitchen Qual', 'Functional', 'Paved Drive', 'Sale Type',\n",
      "       'Sale Condition'],\n",
      "      dtype='object')\n"
     ]
    }
   ],
   "source": [
    "# get no-null text column names of train dataframe\n",
    "null_series = train.isnull().sum()  # a series of null data counts\n",
    "df_no_null = train[null_series[null_series==0].index]\n",
    "text_col = df_no_null.select_dtypes(include=['object']).columns\n",
    "print(text_col)"
   ]
  },
  {
   "cell_type": "code",
   "execution_count": 23,
   "metadata": {},
   "outputs": [
    {
     "name": "stdout",
     "output_type": "stream",
     "text": [
      "<class 'pandas.core.series.Series'>\n"
     ]
    }
   ],
   "source": [
    "print(type(null_series))"
   ]
  },
  {
   "cell_type": "code",
   "execution_count": 19,
   "metadata": {},
   "outputs": [
    {
     "name": "stdout",
     "output_type": "stream",
     "text": [
      "(1460, 82)\n",
      "(1460, 236)\n"
     ]
    }
   ],
   "source": [
    "print(train.shape)\n",
    "for col in text_col:\n",
    "    col_dummies = pd.get_dummies(train[col])\n",
    "    train = pd.concat([train, col_dummies], axis=1)\n",
    "    del train[col]\n",
    "    \n",
    "print(train.shape)"
   ]
  },
  {
   "cell_type": "markdown",
   "metadata": {},
   "source": [
    "## Often need to create new column (feature)\n",
    "Both 'Year Remov/add' (remodel/addition), and 'Year Built' are not very meanful by itself, but the year difference is more meanful in terms of 'SalePrice'. So create a new column"
   ]
  },
  {
   "cell_type": "code",
   "execution_count": 22,
   "metadata": {
    "collapsed": true
   },
   "outputs": [],
   "source": [
    "train['years_until_remod'] = train['Year Remod/Add'] - train['Year Built']"
   ]
  },
  {
   "cell_type": "markdown",
   "metadata": {},
   "source": [
    "# Imputation\n",
    "Replacing missing data with substituted values.<br>\n",
    "Assume we would like to keep the columns no more than 25% missing data, given the limited number of sampling."
   ]
  },
  {
   "cell_type": "code",
   "execution_count": 24,
   "metadata": {},
   "outputs": [
    {
     "name": "stdout",
     "output_type": "stream",
     "text": [
      "Lot Frontage      249\n",
      "Mas Vnr Type       11\n",
      "Mas Vnr Area       11\n",
      "Bsmt Qual          40\n",
      "Bsmt Cond          40\n",
      "Bsmt Exposure      41\n",
      "BsmtFin Type 1     40\n",
      "BsmtFin SF 1        1\n",
      "BsmtFin Type 2     41\n",
      "BsmtFin SF 2        1\n",
      "Bsmt Unf SF         1\n",
      "Total Bsmt SF       1\n",
      "Bsmt Full Bath      1\n",
      "Bsmt Half Bath      1\n",
      "Garage Type        74\n",
      "Garage Yr Blt      75\n",
      "Garage Finish      75\n",
      "Garage Qual        75\n",
      "Garage Cond        75\n",
      "dtype: int64\n",
      "Lot Frontage      float64\n",
      "Mas Vnr Type       object\n",
      "Mas Vnr Area      float64\n",
      "Bsmt Qual          object\n",
      "Bsmt Cond          object\n",
      "Bsmt Exposure      object\n",
      "BsmtFin Type 1     object\n",
      "BsmtFin SF 1      float64\n",
      "BsmtFin Type 2     object\n",
      "BsmtFin SF 2      float64\n",
      "Bsmt Unf SF       float64\n",
      "Total Bsmt SF     float64\n",
      "Bsmt Full Bath    float64\n",
      "Bsmt Half Bath    float64\n",
      "Garage Type        object\n",
      "Garage Yr Blt     float64\n",
      "Garage Finish      object\n",
      "Garage Qual        object\n",
      "Garage Cond        object\n",
      "dtype: object\n"
     ]
    }
   ],
   "source": [
    "# find columns with less than 25% missing data\n",
    "df_missing_values = train[null_series[(null_series>0) & (null_series < 584)].index]\n",
    "print(df_missing_values.isnull().sum())\n",
    "print(df_missing_values.dtypes)"
   ]
  },
  {
   "cell_type": "markdown",
   "metadata": {},
   "source": [
    "## Amazing how simple the way df.mean() and df.fillna() works for multiple column dataframe, with null values"
   ]
  },
  {
   "cell_type": "code",
   "execution_count": 25,
   "metadata": {},
   "outputs": [
    {
     "name": "stdout",
     "output_type": "stream",
     "text": [
      "Lot Frontage      0\n",
      "Mas Vnr Area      0\n",
      "BsmtFin SF 1      0\n",
      "BsmtFin SF 2      0\n",
      "Bsmt Unf SF       0\n",
      "Total Bsmt SF     0\n",
      "Bsmt Full Bath    0\n",
      "Bsmt Half Bath    0\n",
      "Garage Yr Blt     0\n",
      "dtype: int64\n"
     ]
    }
   ],
   "source": [
    "float_cols = df_missing_values.select_dtypes(include=['float'])\n",
    "float_cols = float_cols.fillna(float_cols.mean())\n",
    "print(float_cols.isnull().sum())"
   ]
  },
  {
   "cell_type": "markdown",
   "metadata": {},
   "source": [
    "_____________________\n",
    "# Re-Do feature engineering on the dataframe"
   ]
  },
  {
   "cell_type": "markdown",
   "metadata": {},
   "source": [
    "- Handle missing values:\n",
    "    - All columns:\n",
    "        - Drop any with 5% or more missing values **for now**.\n",
    "    - Text columns:\n",
    "        - Drop any with 1 or more missing values **for now**.\n",
    "    - Numerical columns:\n",
    "        - For columns with missing values, fill in with the most common value in that column"
   ]
  },
  {
   "cell_type": "markdown",
   "metadata": {},
   "source": [
    "1: All collumns: Drop those with 5% or more missing values."
   ]
  },
  {
   "cell_type": "code",
   "execution_count": 96,
   "metadata": {},
   "outputs": [],
   "source": [
    "data = pd.read_csv('../../../dataquest/datafile/6-4-1-AmesHousing.txt', \n",
    "                   delimiter='\\t')\n",
    "data_missing = data.isnull().sum()\n",
    "drop_clns = data_missing[data_missing>(len(data)/20.0)].index\n",
    "data = data.drop(drop_clns, axis=1)"
   ]
  },
  {
   "cell_type": "code",
   "execution_count": 97,
   "metadata": {},
   "outputs": [
    {
     "name": "stdout",
     "output_type": "stream",
     "text": [
      "82 11 71\n"
     ]
    }
   ],
   "source": [
    "print(len(data_missing), len(drop_clns), data.shape[1])"
   ]
  },
  {
   "cell_type": "markdown",
   "metadata": {},
   "source": [
    "2: For text columns, drop all columns with 1 or more missing values."
   ]
  },
  {
   "cell_type": "code",
   "execution_count": 98,
   "metadata": {},
   "outputs": [
    {
     "name": "stdout",
     "output_type": "stream",
     "text": [
      "(2930, 64)\n"
     ]
    }
   ],
   "source": [
    "text_missing_cts = data.select_dtypes(include='object').isnull().sum()\n",
    "text_drops = text_missing_cts[text_missing_cts>0].index\n",
    "data = data.drop(text_drops, axis=1)\n",
    "print(data.shape)"
   ]
  },
  {
   "cell_type": "markdown",
   "metadata": {},
   "source": [
    "3: For numerical columns with missing values, fill in with the most common values in columns:"
   ]
  },
  {
   "cell_type": "code",
   "execution_count": 99,
   "metadata": {},
   "outputs": [
    {
     "name": "stdout",
     "output_type": "stream",
     "text": [
      "<class 'pandas.core.frame.DataFrame'>\n",
      "   Mas Vnr Area  BsmtFin SF 1  BsmtFin SF 2  Bsmt Unf SF  Total Bsmt SF  \\\n",
      "0           0.0           0.0           0.0          0.0            0.0   \n",
      "\n",
      "   Bsmt Full Bath  Bsmt Half Bath  Garage Cars  Garage Area  \n",
      "0             0.0             0.0          2.0          0.0  \n"
     ]
    }
   ],
   "source": [
    "num_missing = data.select_dtypes(include='number').isnull().sum()\n",
    "fill_clns = num_missing[(num_missing<=(len(data)/20.0)) & (num_missing>0)].index\n",
    "fill_dict = data[fill_clns].mode()\n",
    "print(type(fill_dict))\n",
    "print(fill_dict)"
   ]
  },
  {
   "cell_type": "code",
   "execution_count": 100,
   "metadata": {},
   "outputs": [
    {
     "name": "stdout",
     "output_type": "stream",
     "text": [
      "{'Bsmt Unf SF': 0.0, 'Bsmt Full Bath': 0.0, 'Garage Area': 0.0, 'Garage Cars': 2.0, 'Bsmt Half Bath': 0.0, 'Mas Vnr Area': 0.0, 'Total Bsmt SF': 0.0, 'BsmtFin SF 1': 0.0, 'BsmtFin SF 2': 0.0}\n"
     ]
    }
   ],
   "source": [
    "fill_dict = fill_dict.to_dict(orient='records')[0]\n",
    "# 'shift'+'Tab' help: orient='records' gives [{cln -> value, ..., cln -> value}]\n",
    "# so, ...[0] gives {cln -> value, ..., cln -> value}\n",
    "print(fill_dict)"
   ]
  },
  {
   "cell_type": "markdown",
   "metadata": {},
   "source": [
    "## Amazing again, how fillna works with dataframe (and using dictionary)\n",
    "and use df.isnull().sum().value_counts() to check missing values"
   ]
  },
  {
   "cell_type": "code",
   "execution_count": 101,
   "metadata": {},
   "outputs": [
    {
     "name": "stdout",
     "output_type": "stream",
     "text": [
      "0    64\n",
      "dtype: int64\n"
     ]
    }
   ],
   "source": [
    "data = data.fillna(fill_dict)\n",
    "print(data.isnull().sum().value_counts())"
   ]
  },
  {
   "cell_type": "markdown",
   "metadata": {},
   "source": [
    "4: Create new features, and drop not-needed columns:"
   ]
  },
  {
   "cell_type": "code",
   "execution_count": 102,
   "metadata": {},
   "outputs": [
    {
     "data": {
      "text/plain": [
       "2180   -1\n",
       "dtype: int64"
      ]
     },
     "execution_count": 102,
     "metadata": {},
     "output_type": "execute_result"
    }
   ],
   "source": [
    "yrs_before_sold = data['Yr Sold'] - data['Year Built']\n",
    "yrs_before_sold[yrs_before_sold<0]"
   ]
  },
  {
   "cell_type": "code",
   "execution_count": 103,
   "metadata": {},
   "outputs": [
    {
     "data": {
      "text/plain": [
       "1702   -1\n",
       "2180   -2\n",
       "2181   -1\n",
       "dtype: int64"
      ]
     },
     "execution_count": 103,
     "metadata": {},
     "output_type": "execute_result"
    }
   ],
   "source": [
    "yrs_before_remod = data['Yr Sold'] - data['Year Remod/Add']\n",
    "yrs_before_remod[yrs_before_remod<0]"
   ]
  },
  {
   "cell_type": "code",
   "execution_count": 104,
   "metadata": {},
   "outputs": [
    {
     "name": "stdout",
     "output_type": "stream",
     "text": [
      "(2927, 64)\n"
     ]
    }
   ],
   "source": [
    "data['Yr before sale'] = yrs_before_sold\n",
    "data['Yr before remod'] = yrs_before_remod\n",
    "\n",
    "data = data.drop([1702, 2180, 2181], axis=0)\n",
    "data = data.drop(['Year Built', 'Year Remod/Add'], axis=1)\n",
    "print(data.shape)"
   ]
  },
  {
   "cell_type": "code",
   "execution_count": 105,
   "metadata": {
    "collapsed": true
   },
   "outputs": [],
   "source": [
    "# drop columns that aren't usefule for ML\n",
    "data = data.drop(['PID', 'Order'], axis=1)"
   ]
  },
  {
   "cell_type": "markdown",
   "metadata": {},
   "source": [
    "5: Drop leak data about final sale. [leak data:](https://machinelearningmastery.com/data-leakage-machine-learning/) <i>\"if any other feature whose value would not actually be available in practice at the time you’d want to use the model to make a prediction, is a feature that can introduce leakage to your model\"; \"when the data you are using to train a machine learning algorithm happens to have the information you are trying to predict.\" </i> Perhaps more"
   ]
  },
  {
   "cell_type": "code",
   "execution_count": 106,
   "metadata": {
    "collapsed": true
   },
   "outputs": [],
   "source": [
    "data = data.drop(['Mo Sold', 'Sale Condition', 'Sale Type', 'Yr Sold'], axis=1)"
   ]
  },
  {
   "cell_type": "markdown",
   "metadata": {},
   "source": [
    "5: Only keep numerical columns with high correlation with 'SalePrice'"
   ]
  },
  {
   "cell_type": "code",
   "execution_count": 107,
   "metadata": {},
   "outputs": [
    {
     "name": "stdout",
     "output_type": "stream",
     "text": [
      "(2927, 33)\n",
      "(2927, 33)\n"
     ]
    }
   ],
   "source": [
    "# verify that include='number' is equivalent to include=['int64', 'float64] here\n",
    "num_df = data.select_dtypes(include='number')\n",
    "print(num_df.shape)\n",
    "num_df = data.select_dtypes(include=['int64', 'float64'])\n",
    "print(num_df.shape)"
   ]
  },
  {
   "cell_type": "code",
   "execution_count": 108,
   "metadata": {},
   "outputs": [
    {
     "name": "stdout",
     "output_type": "stream",
     "text": [
      "<class 'pandas.core.series.Series'>\n",
      "BsmtFin SF 2       0.006127\n",
      "Misc Val           0.019273\n",
      "3Ssn Porch         0.032268\n",
      "Bsmt Half Bath     0.035875\n",
      "Low Qual Fin SF    0.037629\n",
      "Pool Area          0.068438\n",
      "MS SubClass        0.085128\n",
      "Overall Cond       0.101540\n",
      "Screen Porch       0.112280\n",
      "Kitchen AbvGr      0.119760\n",
      "Enclosed Porch     0.128685\n",
      "Bedroom AbvGr      0.143916\n",
      "Bsmt Unf SF        0.182751\n",
      "Lot Area           0.267520\n",
      "2nd Flr SF         0.269601\n",
      "Bsmt Full Bath     0.276258\n",
      "Half Bath          0.284871\n",
      "Open Porch SF      0.316262\n",
      "Wood Deck SF       0.328183\n",
      "BsmtFin SF 1       0.439284\n",
      "Fireplaces         0.474831\n",
      "TotRms AbvGrd      0.498574\n",
      "Mas Vnr Area       0.506983\n",
      "Yr before remod    0.534985\n",
      "Full Bath          0.546118\n",
      "Yr before sale     0.558979\n",
      "1st Flr SF         0.635185\n",
      "Garage Area        0.641425\n",
      "Total Bsmt SF      0.644012\n",
      "Garage Cars        0.648361\n",
      "Gr Liv Area        0.717596\n",
      "Overall Qual       0.801206\n",
      "SalePrice          1.000000\n",
      "Name: SalePrice, dtype: float64\n",
      "(2927, 39)\n"
     ]
    }
   ],
   "source": [
    "num_corr_sale = num_df.corr()['SalePrice'].abs().sort_values()\n",
    "print(type(num_corr_sale))\n",
    "print(num_corr_sale)\n",
    "num_drop = num_corr_sale[num_corr_sale < 0.4]\n",
    "data = data.drop(num_drop.index, axis=1)\n",
    "print(data.shape)"
   ]
  },
  {
   "cell_type": "code",
   "execution_count": 109,
   "metadata": {},
   "outputs": [
    {
     "name": "stdout",
     "output_type": "stream",
     "text": [
      "Index(['BsmtFin SF 2', 'Misc Val', '3Ssn Porch', 'Bsmt Half Bath',\n",
      "       'Low Qual Fin SF', 'Pool Area', 'MS SubClass', 'Overall Cond',\n",
      "       'Screen Porch', 'Kitchen AbvGr', 'Enclosed Porch', 'Bedroom AbvGr',\n",
      "       'Bsmt Unf SF', 'Lot Area', '2nd Flr SF', 'Bsmt Full Bath', 'Half Bath',\n",
      "       'Open Porch SF', 'Wood Deck SF'],\n",
      "      dtype='object')\n"
     ]
    }
   ],
   "source": [
    "print(num_drop.index)"
   ]
  },
  {
   "cell_type": "markdown",
   "metadata": {},
   "source": [
    "6: Dummy coding the text columns that are meant to be categorical according to document, with less than 10 unique values:"
   ]
  },
  {
   "cell_type": "code",
   "execution_count": 114,
   "metadata": {},
   "outputs": [
    {
     "name": "stdout",
     "output_type": "stream",
     "text": [
      "['Roof Matl', 'Central Air', 'House Style', 'Exterior 1st', 'Neighborhood', 'Foundation', 'Land Contour', 'Exterior 2nd', 'Roof Style', 'MS Zoning', 'Lot Config', 'Heating', 'Condition 2', 'Condition 1', 'Bldg Type', 'Street']\n",
      "Roof Matl        8\n",
      "Central Air      2\n",
      "House Style      8\n",
      "Exterior 1st    16\n",
      "Neighborhood    28\n",
      "Foundation       6\n",
      "Land Contour     4\n",
      "Exterior 2nd    17\n",
      "Roof Style       6\n",
      "MS Zoning        7\n",
      "Lot Config       5\n",
      "Heating          6\n",
      "Condition 2      8\n",
      "Condition 1      9\n",
      "Bldg Type        5\n",
      "Street           2\n",
      "dtype: int64\n",
      "['Roof Matl', 'Central Air', 'House Style', 'Foundation', 'Land Contour', 'Roof Style', 'MS Zoning', 'Lot Config', 'Heating', 'Condition 2', 'Condition 1', 'Bldg Type', 'Street']\n"
     ]
    }
   ],
   "source": [
    "nominal_features = [\"PID\", \"MS SubClass\", \"MS Zoning\", \"Street\", \"Alley\", \"Land Contour\", \"Lot Config\",\n",
    "                    \"Neighborhood\", \"Condition 1\", \"Condition 2\", \"Bldg Type\", \"House Style\", \n",
    "                    \"Roof Style\", \"Roof Matl\", \"Exterior 1st\", \"Exterior 2nd\", \"Mas Vnr Type\", \n",
    "                    \"Foundation\", \"Heating\", \"Central Air\", \"Garage Type\", \"Misc Feature\", \n",
    "                    \"Sale Type\", \"Sale Condition\"]\n",
    "# use set intersection to find the columns still in table:\n",
    "cols_in_df = list(set(nominal_features) & set(data.columns))\n",
    "\n",
    "# The solution code (Mission240Solutions.ipynb) uses loop to find out, a bit of more work:\n",
    "# cols_to_code = []\n",
    "# for col in nominal_features:\n",
    "#     if col in data.columns:\n",
    "#         cols_to_code.append(col)\n",
    "print(cols_in_df)\n",
    "unique_values = data[cols_in_df].apply(lambda x: len(x.value_counts()))\n",
    "print(unique_values)\n",
    "cols_to_code = list(set(cols_in_df) & set(unique_values[unique_values<=10].index))\n",
    "print(cols_to_code)"
   ]
  },
  {
   "cell_type": "code",
   "execution_count": 115,
   "metadata": {},
   "outputs": [
    {
     "name": "stdout",
     "output_type": "stream",
     "text": [
      "(2927, 76)\n",
      "(2927, 115)\n"
     ]
    }
   ],
   "source": [
    "dummy_cols = pd.get_dummies(data[cols_to_code])\n",
    "print(dummy_cols.shape)\n",
    "data = pd.concat([data, dummy_cols], axis=1)\n",
    "print(data.shape)\n",
    "# in solution code, the text columns are first converted to 'category' type, then use \n",
    "# include='category' in select_dtypes to select these columns for get_dummies operation"
   ]
  },
  {
   "cell_type": "markdown",
   "metadata": {},
   "source": [
    "7: To summarize all the work in functions:"
   ]
  },
  {
   "cell_type": "code",
   "execution_count": 124,
   "metadata": {},
   "outputs": [
    {
     "name": "stdout",
     "output_type": "stream",
     "text": [
      "35064.6506193\n",
      "[28857.254408702953, 29090.03994169912, 27543.561208889907, 39556.065159260463]\n",
      "31261.7301796\n"
     ]
    }
   ],
   "source": [
    "def drop_filla_create_features(df):\n",
    "    # drop any columns with >5% missing data\n",
    "    num_missing = df.isnull().sum()  # a series of missing numbers\n",
    "    drop_cols = num_missing[num_missing>(len(df)/20.0)].index    # list of columns with >5% missing\n",
    "    df = df.drop(drop_cols, axis=1)\n",
    "    \n",
    "    # drop text columns with any missing data\n",
    "    text_missing_cts = df.select_dtypes(include=['object']).isnull().sum()\n",
    "    text_drops = text_missing_cts[text_missing_cts>0].index    # text columns with missing data\n",
    "    df = df.drop(text_drops, axis=1)\n",
    "    \n",
    "    # fillna missing numerical data with most likely values (mode):\n",
    "    numerical_missing = df.select_dtypes(include='number').isnull().sum()\n",
    "    numerical_missing_cols = numerical_missing[numerical_missing>0].index\n",
    "    col_mode_dict = df[numerical_missing_cols].mode().to_dict(orient='records')[0]\n",
    "    df = df.fillna(col_mode_dict)\n",
    "    \n",
    "    # create some new features:\n",
    "    years_sold = df['Yr Sold'] - df['Year Built']\n",
    "    years_since_remod = df['Yr Sold'] - df['Year Remod/Add']\n",
    "    df['Years Before Sale'] = years_sold\n",
    "    df['Years Since Remod'] = years_since_remod\n",
    "    df = df.drop([1702, 2180, 2181], axis=0)\n",
    "    \n",
    "    # drop the columns that believed to cause data leak:\n",
    "    df = df.drop([\"PID\", \"Order\", \"Mo Sold\", \"Sale Condition\", \"Sale Type\", \n",
    "                  \"Year Built\", \"Year Remod/Add\"], axis=1)    \n",
    "    return df\n",
    "\n",
    "def select_encode_features(df, corr_threshold=0.4, uniq_threshold=10):\n",
    "    # drop numerical columns that weakly correlated to 'SalePrice'\n",
    "    numerical_df = df.select_dtypes(include=['int64', 'float64'])   # include='number' also ok\n",
    "    abs_corr_coeffs = numerical_df.corr()['SalePrice'].abs().sort_values()\n",
    "    df = df.drop(abs_corr_coeffs[abs_corr_coeffs < corr_threshold].index, axis=1)\n",
    "    \n",
    "    # dummy coding text columns\n",
    "    nominal_features = [\"PID\", \"MS SubClass\", \"MS Zoning\", \"Street\", \"Alley\", \"Land Contour\", \n",
    "                    \"Lot Config\",\"Neighborhood\", \"Condition 1\", \"Condition 2\", \"Bldg Type\", \n",
    "                    \"House Style\", \"Roof Style\", \"Roof Matl\", \"Exterior 1st\", \"Exterior 2nd\", \n",
    "                    \"Mas Vnr Type\", \"Foundation\", \"Heating\", \"Central Air\", \"Garage Type\", \n",
    "                    \"Misc Feature\", \"Sale Type\", \"Sale Condition\"]\n",
    "    cols_in_df = list(set(nominal_features) & set(df.columns))\n",
    "    unique_values = df[cols_in_df].apply(lambda x: len(x.value_counts()))\n",
    "    cols_to_code = unique_values[unique_values<=uniq_threshold].index\n",
    "    dummy_cols = pd.get_dummies(df[cols_to_code])\n",
    "    df = pd.concat([df, dummy_cols], axis=1)\n",
    "    return df\n",
    "\n",
    "def train_and_test(df, k=0):\n",
    "    numeric_df = df.select_dtypes(include=['integer', 'float'])\n",
    "    features = numeric_df.columns.drop(\"SalePrice\")\n",
    "    lr = LinearRegression()\n",
    "    \n",
    "    if k == 0:\n",
    "        train = df[:1460]\n",
    "        test = df[1460:]\n",
    "\n",
    "        lr.fit(train[features], train[\"SalePrice\"])\n",
    "        predictions = lr.predict(test[features])\n",
    "        mse = mean_squared_error(test[\"SalePrice\"], predictions)\n",
    "        rmse = np.sqrt(mse)\n",
    "\n",
    "        return rmse\n",
    "    \n",
    "    if k == 1:\n",
    "        # Randomize *all* rows (frac=1) from `df` and return\n",
    "        shuffled_df = df.sample(frac=1, )\n",
    "        train = df[:1460]\n",
    "        test = df[1460:]\n",
    "        \n",
    "        lr.fit(train[features], train[\"SalePrice\"])\n",
    "        predictions_one = lr.predict(test[features])        \n",
    "        \n",
    "        mse_one = mean_squared_error(test[\"SalePrice\"], predictions_one)\n",
    "        rmse_one = np.sqrt(mse_one)\n",
    "        \n",
    "        lr.fit(test[features], test[\"SalePrice\"])\n",
    "        predictions_two = lr.predict(train[features])        \n",
    "       \n",
    "        mse_two = mean_squared_error(train[\"SalePrice\"], predictions_two)\n",
    "        rmse_two = np.sqrt(mse_two)\n",
    "        \n",
    "        avg_rmse = np.mean([rmse_one, rmse_two])\n",
    "        print(rmse_one)\n",
    "        print(rmse_two)\n",
    "        return avg_rmse\n",
    "    else:\n",
    "        kf = KFold(n_splits=k, shuffle=True)\n",
    "        rmse_values=[]\n",
    "        for train_index, test_index in kf.split(df):\n",
    "            train = df.iloc[train_index]\n",
    "            test = df.iloc[test_index]\n",
    "            lr.fit(train[features], train['SalePrice'])\n",
    "            predictions = lr.predict(test[features])\n",
    "            mse = mean_squared_error(test['SalePrice'], predictions)\n",
    "            rmse = np.sqrt(mse)\n",
    "            rmse_values.append(rmse)\n",
    "        print(rmse_values)\n",
    "        avg_rmse = np.mean(rmse_values)\n",
    "        return avg_rmse\n",
    "\n",
    "    \n",
    "data = pd.read_csv('../../../dataquest/datafile/6-4-1-AmesHousing.txt', \n",
    "                   delimiter='\\t')\n",
    "step1_df = drop_filla_create_features(data)\n",
    "step2_df = select_encode_features(step1_df)\n",
    "\n",
    "rmse = train_and_test(step2_df)\n",
    "print(rmse)\n",
    "rmse = train_and_test(step2_df, k=4)\n",
    "print(rmse)"
   ]
  },
  {
   "cell_type": "markdown",
   "metadata": {},
   "source": [
    " <i> test_rmse was 40591.4270244 for previous quick testing. Now it is 31261 (after quite some more work) <i>"
   ]
  },
  {
   "cell_type": "code",
   "execution_count": 126,
   "metadata": {},
   "outputs": [
    {
     "name": "stdout",
     "output_type": "stream",
     "text": [
      "[ 38449.50868425  27976.34653088  28708.14818451  30822.4088079 ]\n"
     ]
    }
   ],
   "source": [
    "fold=4\n",
    "kf = KFold(fold, shuffle=True, random_state=1)\n",
    "model = LinearRegression()\n",
    "numeric_df = step2_df.select_dtypes(include=['integer', 'float'])\n",
    "features = numeric_df.columns.drop(\"SalePrice\")\n",
    "mses = cross_val_score(model, step2_df[features], \n",
    "                step2_df['SalePrice'], scoring='neg_mean_squared_error', cv=kf)\n",
    "rmse = np.sqrt(-1*mses)\n",
    "print(rmse)"
   ]
  },
  {
   "cell_type": "code",
   "execution_count": null,
   "metadata": {
    "collapsed": true
   },
   "outputs": [],
   "source": []
  }
 ],
 "metadata": {
  "kernelspec": {
   "display_name": "Python 3",
   "language": "python",
   "name": "python3"
  },
  "language_info": {
   "codemirror_mode": {
    "name": "ipython",
    "version": 3
   },
   "file_extension": ".py",
   "mimetype": "text/x-python",
   "name": "python",
   "nbconvert_exporter": "python",
   "pygments_lexer": "ipython3",
   "version": "3.5.4"
  }
 },
 "nbformat": 4,
 "nbformat_minor": 2
}
