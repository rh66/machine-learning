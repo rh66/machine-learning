{
 "cells": [
  {
   "cell_type": "markdown",
   "metadata": {},
   "source": [
    "These exercises are part of practice in Chaperter 6 \"Machine Learning\", of online courses \"Become a data scientist\" [www.dataquest.io](https://www.dataquest.io/) "
   ]
  },
  {
   "cell_type": "markdown",
   "metadata": {},
   "source": [
    "- ### K-NN principle demonstration\n",
    "- ### sklearn.neighbors.KNeighborsRegressor \n",
    "<i> any difference from sklearn.neighbors.KNeighborsClassifier ? <i> \n",
    "- ### optimization with hyper-parameters\n",
    "- ### cross valiation, manually and with module \n",
    "<i> sklearn.model_selection.cross_val_score, & KFold <i>"
   ]
  },
  {
   "cell_type": "markdown",
   "metadata": {},
   "source": [
    "# K-NN\n",
    "k-nearest neighbors"
   ]
  },
  {
   "cell_type": "code",
   "execution_count": 5,
   "metadata": {
    "collapsed": true
   },
   "outputs": [],
   "source": [
    "import pandas as pd\n",
    "import numpy as np"
   ]
  },
  {
   "cell_type": "code",
   "execution_count": 35,
   "metadata": {},
   "outputs": [
    {
     "data": {
      "text/plain": [
       "host_response_rate                  92%\n",
       "host_acceptance_rate                91%\n",
       "host_listings_count                  26\n",
       "accommodates                          4\n",
       "room_type               Entire home/apt\n",
       "bedrooms                              1\n",
       "bathrooms                             1\n",
       "beds                                  2\n",
       "price                           $160.00\n",
       "cleaning_fee                    $115.00\n",
       "security_deposit                $100.00\n",
       "minimum_nights                        1\n",
       "maximum_nights                     1125\n",
       "number_of_reviews                     0\n",
       "latitude                          38.89\n",
       "longitude                      -77.0028\n",
       "city                         Washington\n",
       "zipcode                           20003\n",
       "state                                DC\n",
       "Name: 0, dtype: object"
      ]
     },
     "execution_count": 35,
     "metadata": {},
     "output_type": "execute_result"
    }
   ],
   "source": [
    "dc_listing = pd.read_csv('../../../dataquest/datafile/6-1-1-dc_airbnb.csv')\n",
    "dc_listing.iloc[0]"
   ]
  },
  {
   "cell_type": "markdown",
   "metadata": {},
   "source": [
    "## Cleaning price data "
   ]
  },
  {
   "cell_type": "code",
   "execution_count": 36,
   "metadata": {},
   "outputs": [
    {
     "data": {
      "text/plain": [
       "0    160.0\n",
       "1    350.0\n",
       "2     50.0\n",
       "3     95.0\n",
       "4     50.0\n",
       "Name: price, dtype: float64"
      ]
     },
     "execution_count": 36,
     "metadata": {},
     "output_type": "execute_result"
    }
   ],
   "source": [
    "stripped_commas = dc_listing['price'].str.replace(',', '')\n",
    "#stripped_commas = dc_listing['price'].apply(lambda x: x.replace(',', '')) # either of the 2 lines work\n",
    "stripped_dollars = stripped_commas.str.replace('$','')\n",
    "dc_listing['price'] = stripped_dollars.astype('float')\n",
    "dc_listing['price'][0:5]"
   ]
  },
  {
   "cell_type": "markdown",
   "metadata": {},
   "source": [
    "## k-nn principle demonstration with k=5\n",
    "using \"price\" with variable of \"accommodates\""
   ]
  },
  {
   "cell_type": "code",
   "execution_count": 38,
   "metadata": {},
   "outputs": [],
   "source": [
    "np.random.seed(1)\n",
    "dc_listing = dc_listing.loc[np.random.permutation(len(dc_listing))]"
   ]
  },
  {
   "cell_type": "code",
   "execution_count": 39,
   "metadata": {},
   "outputs": [
    {
     "name": "stdout",
     "output_type": "stream",
     "text": [
      "68.0\n",
      "112.8\n",
      "124.8\n"
     ]
    }
   ],
   "source": [
    "def predict_price(accommodates):\n",
    "    temp_df = dc_listing.copy()\n",
    "    temp_df['distance'] = dc_listing['accommodates'].apply(lambda x: np.abs(x - accommodates))\n",
    "    temp_df = temp_df.sort_values('distance')\n",
    "    neighbors = temp_df['price'].iloc[0:5]\n",
    "    return np.mean(neighbors)\n",
    "\n",
    "print(predict_price(1))\n",
    "print(predict_price(2))\n",
    "print(predict_price(4))"
   ]
  },
  {
   "cell_type": "markdown",
   "metadata": {},
   "source": [
    "## pd.apply for whole series"
   ]
  },
  {
   "cell_type": "code",
   "execution_count": 40,
   "metadata": {},
   "outputs": [
    {
     "name": "stderr",
     "output_type": "stream",
     "text": [
      "C:\\Users\\huang\\Anaconda3\\envs\\tfdeeplearning\\lib\\site-packages\\ipykernel_launcher.py:12: SettingWithCopyWarning: \n",
      "A value is trying to be set on a copy of a slice from a DataFrame.\n",
      "Try using .loc[row_indexer,col_indexer] = value instead\n",
      "\n",
      "See the caveats in the documentation: http://pandas.pydata.org/pandas-docs/stable/indexing.html#indexing-view-versus-copy\n",
      "  if sys.path[0] == '':\n"
     ]
    },
    {
     "data": {
      "text/html": [
       "<div>\n",
       "<style scoped>\n",
       "    .dataframe tbody tr th:only-of-type {\n",
       "        vertical-align: middle;\n",
       "    }\n",
       "\n",
       "    .dataframe tbody tr th {\n",
       "        vertical-align: top;\n",
       "    }\n",
       "\n",
       "    .dataframe thead th {\n",
       "        text-align: right;\n",
       "    }\n",
       "</style>\n",
       "<table border=\"1\" class=\"dataframe\">\n",
       "  <thead>\n",
       "    <tr style=\"text-align: right;\">\n",
       "      <th></th>\n",
       "      <th>host_response_rate</th>\n",
       "      <th>host_acceptance_rate</th>\n",
       "      <th>host_listings_count</th>\n",
       "      <th>accommodates</th>\n",
       "      <th>room_type</th>\n",
       "      <th>bedrooms</th>\n",
       "      <th>bathrooms</th>\n",
       "      <th>beds</th>\n",
       "      <th>price</th>\n",
       "      <th>cleaning_fee</th>\n",
       "      <th>security_deposit</th>\n",
       "      <th>minimum_nights</th>\n",
       "      <th>maximum_nights</th>\n",
       "      <th>number_of_reviews</th>\n",
       "      <th>latitude</th>\n",
       "      <th>longitude</th>\n",
       "      <th>city</th>\n",
       "      <th>zipcode</th>\n",
       "      <th>state</th>\n",
       "      <th>predicted_price</th>\n",
       "    </tr>\n",
       "  </thead>\n",
       "  <tbody>\n",
       "    <tr>\n",
       "      <th>511</th>\n",
       "      <td>98%</td>\n",
       "      <td>52%</td>\n",
       "      <td>49</td>\n",
       "      <td>2</td>\n",
       "      <td>Private room</td>\n",
       "      <td>1.0</td>\n",
       "      <td>1.0</td>\n",
       "      <td>1.0</td>\n",
       "      <td>225.0</td>\n",
       "      <td>NaN</td>\n",
       "      <td>NaN</td>\n",
       "      <td>2</td>\n",
       "      <td>14</td>\n",
       "      <td>0</td>\n",
       "      <td>38.907871</td>\n",
       "      <td>-77.031629</td>\n",
       "      <td>Washington</td>\n",
       "      <td>20005</td>\n",
       "      <td>DC</td>\n",
       "      <td>117.6</td>\n",
       "    </tr>\n",
       "    <tr>\n",
       "      <th>3597</th>\n",
       "      <td>100%</td>\n",
       "      <td>92%</td>\n",
       "      <td>1</td>\n",
       "      <td>4</td>\n",
       "      <td>Entire home/apt</td>\n",
       "      <td>0.0</td>\n",
       "      <td>1.0</td>\n",
       "      <td>2.0</td>\n",
       "      <td>135.0</td>\n",
       "      <td>$35.00</td>\n",
       "      <td>$100.00</td>\n",
       "      <td>2</td>\n",
       "      <td>29</td>\n",
       "      <td>64</td>\n",
       "      <td>38.890416</td>\n",
       "      <td>-76.989529</td>\n",
       "      <td>Washington</td>\n",
       "      <td>20002</td>\n",
       "      <td>DC</td>\n",
       "      <td>184.6</td>\n",
       "    </tr>\n",
       "    <tr>\n",
       "      <th>2436</th>\n",
       "      <td>100%</td>\n",
       "      <td>40%</td>\n",
       "      <td>2</td>\n",
       "      <td>1</td>\n",
       "      <td>Shared room</td>\n",
       "      <td>1.0</td>\n",
       "      <td>1.0</td>\n",
       "      <td>1.0</td>\n",
       "      <td>45.0</td>\n",
       "      <td>NaN</td>\n",
       "      <td>NaN</td>\n",
       "      <td>1</td>\n",
       "      <td>14</td>\n",
       "      <td>39</td>\n",
       "      <td>38.920830</td>\n",
       "      <td>-77.039865</td>\n",
       "      <td>Washington</td>\n",
       "      <td>20009</td>\n",
       "      <td>DC</td>\n",
       "      <td>97.8</td>\n",
       "    </tr>\n",
       "    <tr>\n",
       "      <th>731</th>\n",
       "      <td>99%</td>\n",
       "      <td>89%</td>\n",
       "      <td>25</td>\n",
       "      <td>5</td>\n",
       "      <td>Entire home/apt</td>\n",
       "      <td>0.0</td>\n",
       "      <td>1.0</td>\n",
       "      <td>1.0</td>\n",
       "      <td>115.0</td>\n",
       "      <td>$85.00</td>\n",
       "      <td>$300.00</td>\n",
       "      <td>3</td>\n",
       "      <td>1125</td>\n",
       "      <td>15</td>\n",
       "      <td>38.907077</td>\n",
       "      <td>-77.079914</td>\n",
       "      <td>Washington</td>\n",
       "      <td>20007</td>\n",
       "      <td>DC</td>\n",
       "      <td>195.8</td>\n",
       "    </tr>\n",
       "    <tr>\n",
       "      <th>2220</th>\n",
       "      <td>64%</td>\n",
       "      <td>100%</td>\n",
       "      <td>2</td>\n",
       "      <td>4</td>\n",
       "      <td>Entire home/apt</td>\n",
       "      <td>2.0</td>\n",
       "      <td>1.0</td>\n",
       "      <td>2.0</td>\n",
       "      <td>149.0</td>\n",
       "      <td>$75.00</td>\n",
       "      <td>NaN</td>\n",
       "      <td>1</td>\n",
       "      <td>1125</td>\n",
       "      <td>8</td>\n",
       "      <td>38.895042</td>\n",
       "      <td>-76.989805</td>\n",
       "      <td>Washington</td>\n",
       "      <td>20002</td>\n",
       "      <td>DC</td>\n",
       "      <td>184.6</td>\n",
       "    </tr>\n",
       "  </tbody>\n",
       "</table>\n",
       "</div>"
      ],
      "text/plain": [
       "     host_response_rate host_acceptance_rate  host_listings_count  \\\n",
       "511                 98%                  52%                   49   \n",
       "3597               100%                  92%                    1   \n",
       "2436               100%                  40%                    2   \n",
       "731                 99%                  89%                   25   \n",
       "2220                64%                 100%                    2   \n",
       "\n",
       "      accommodates        room_type  bedrooms  bathrooms  beds  price  \\\n",
       "511              2     Private room       1.0        1.0   1.0  225.0   \n",
       "3597             4  Entire home/apt       0.0        1.0   2.0  135.0   \n",
       "2436             1      Shared room       1.0        1.0   1.0   45.0   \n",
       "731              5  Entire home/apt       0.0        1.0   1.0  115.0   \n",
       "2220             4  Entire home/apt       2.0        1.0   2.0  149.0   \n",
       "\n",
       "     cleaning_fee security_deposit  minimum_nights  maximum_nights  \\\n",
       "511           NaN              NaN               2              14   \n",
       "3597       $35.00          $100.00               2              29   \n",
       "2436          NaN              NaN               1              14   \n",
       "731        $85.00          $300.00               3            1125   \n",
       "2220       $75.00              NaN               1            1125   \n",
       "\n",
       "      number_of_reviews   latitude  longitude        city zipcode state  \\\n",
       "511                   0  38.907871 -77.031629  Washington   20005    DC   \n",
       "3597                 64  38.890416 -76.989529  Washington   20002    DC   \n",
       "2436                 39  38.920830 -77.039865  Washington   20009    DC   \n",
       "731                  15  38.907077 -77.079914  Washington   20007    DC   \n",
       "2220                  8  38.895042 -76.989805  Washington   20002    DC   \n",
       "\n",
       "      predicted_price  \n",
       "511             117.6  \n",
       "3597            184.6  \n",
       "2436             97.8  \n",
       "731             195.8  \n",
       "2220            184.6  "
      ]
     },
     "execution_count": 40,
     "metadata": {},
     "output_type": "execute_result"
    }
   ],
   "source": [
    "# dc_listing already randomly mixed !!!\n",
    "train_df = dc_listing[:2792]\n",
    "test_df = dc_listing[2792:]\n",
    "\n",
    "def predict_price(accommodates):\n",
    "    temp_df = train_df.copy()\n",
    "    temp_df['distance'] = train_df['accommodates'].apply(lambda x: np.abs(x - accommodates))\n",
    "    temp_df = temp_df.sort_values('distance')\n",
    "    neighbors = temp_df['price'].iloc[0:5]\n",
    "    return np.mean(neighbors)\n",
    "\n",
    "test_df['predicted_price'] = test_df['accommodates'].apply(predict_price)\n",
    "test_df.head()"
   ]
  },
  {
   "cell_type": "markdown",
   "metadata": {},
   "source": [
    "## Multivariate K-nn"
   ]
  },
  {
   "cell_type": "markdown",
   "metadata": {},
   "source": [
    "## Data preparation"
   ]
  },
  {
   "cell_type": "code",
   "execution_count": 30,
   "metadata": {
    "collapsed": true
   },
   "outputs": [],
   "source": [
    "from sklearn.neighbors import KNeighborsRegressor\n",
    "# what is the different from sklearn.neighbors.KNeighborsClassifier ???\n",
    "from sklearn.metrics import mean_squared_error"
   ]
  },
  {
   "cell_type": "code",
   "execution_count": 41,
   "metadata": {},
   "outputs": [
    {
     "name": "stdout",
     "output_type": "stream",
     "text": [
      "<class 'pandas.core.frame.DataFrame'>\n",
      "Int64Index: 3723 entries, 574 to 1061\n",
      "Data columns (total 10 columns):\n",
      "accommodates         3723 non-null int64\n",
      "bedrooms             3702 non-null float64\n",
      "bathrooms            3696 non-null float64\n",
      "beds                 3712 non-null float64\n",
      "price                3723 non-null float64\n",
      "cleaning_fee         2335 non-null object\n",
      "security_deposit     1426 non-null object\n",
      "minimum_nights       3723 non-null int64\n",
      "maximum_nights       3723 non-null int64\n",
      "number_of_reviews    3723 non-null int64\n",
      "dtypes: float64(4), int64(4), object(2)\n",
      "memory usage: 319.9+ KB\n"
     ]
    }
   ],
   "source": [
    "drop_clns = ['room_type', 'city', 'state', 'latitude', 'longitude', 'zipcode', \n",
    "             'host_response_rate', 'host_acceptance_rate', 'host_listings_count']\n",
    "dc_listing = dc_listing.drop(drop_clns, axis=1)\n",
    "dc_listing.info()"
   ]
  },
  {
   "cell_type": "code",
   "execution_count": 42,
   "metadata": {},
   "outputs": [
    {
     "name": "stdout",
     "output_type": "stream",
     "text": [
      "<class 'pandas.core.frame.DataFrame'>\n",
      "Int64Index: 3671 entries, 574 to 1061\n",
      "Data columns (total 8 columns):\n",
      "accommodates         3671 non-null int64\n",
      "bedrooms             3671 non-null float64\n",
      "bathrooms            3671 non-null float64\n",
      "beds                 3671 non-null float64\n",
      "price                3671 non-null float64\n",
      "minimum_nights       3671 non-null int64\n",
      "maximum_nights       3671 non-null int64\n",
      "number_of_reviews    3671 non-null int64\n",
      "dtypes: float64(4), int64(4)\n",
      "memory usage: 258.1 KB\n",
      "None\n",
      "accommodates         0\n",
      "bedrooms             0\n",
      "bathrooms            0\n",
      "beds                 0\n",
      "price                0\n",
      "minimum_nights       0\n",
      "maximum_nights       0\n",
      "number_of_reviews    0\n",
      "dtype: int64\n"
     ]
    }
   ],
   "source": [
    "dc_listing = dc_listing.drop(['cleaning_fee', 'security_deposit'], axis=1)\n",
    "dc_listing = dc_listing.dropna()\n",
    "print(dc_listing.info())\n",
    "print(dc_listing.isnull().sum())"
   ]
  },
  {
   "cell_type": "code",
   "execution_count": 43,
   "metadata": {},
   "outputs": [
    {
     "data": {
      "text/html": [
       "<div>\n",
       "<style scoped>\n",
       "    .dataframe tbody tr th:only-of-type {\n",
       "        vertical-align: middle;\n",
       "    }\n",
       "\n",
       "    .dataframe tbody tr th {\n",
       "        vertical-align: top;\n",
       "    }\n",
       "\n",
       "    .dataframe thead th {\n",
       "        text-align: right;\n",
       "    }\n",
       "</style>\n",
       "<table border=\"1\" class=\"dataframe\">\n",
       "  <thead>\n",
       "    <tr style=\"text-align: right;\">\n",
       "      <th></th>\n",
       "      <th>accommodates</th>\n",
       "      <th>bedrooms</th>\n",
       "      <th>bathrooms</th>\n",
       "      <th>beds</th>\n",
       "      <th>price</th>\n",
       "      <th>minimum_nights</th>\n",
       "      <th>maximum_nights</th>\n",
       "      <th>number_of_reviews</th>\n",
       "    </tr>\n",
       "  </thead>\n",
       "  <tbody>\n",
       "    <tr>\n",
       "      <th>574</th>\n",
       "      <td>-0.596544</td>\n",
       "      <td>-0.249467</td>\n",
       "      <td>-0.439151</td>\n",
       "      <td>-0.546858</td>\n",
       "      <td>125.0</td>\n",
       "      <td>-0.341375</td>\n",
       "      <td>-0.016604</td>\n",
       "      <td>4.579650</td>\n",
       "    </tr>\n",
       "    <tr>\n",
       "      <th>1593</th>\n",
       "      <td>-0.596544</td>\n",
       "      <td>-0.249467</td>\n",
       "      <td>0.412923</td>\n",
       "      <td>-0.546858</td>\n",
       "      <td>85.0</td>\n",
       "      <td>-0.341375</td>\n",
       "      <td>-0.016603</td>\n",
       "      <td>1.159275</td>\n",
       "    </tr>\n",
       "    <tr>\n",
       "      <th>3091</th>\n",
       "      <td>-1.095499</td>\n",
       "      <td>-0.249467</td>\n",
       "      <td>-1.291226</td>\n",
       "      <td>-0.546858</td>\n",
       "      <td>50.0</td>\n",
       "      <td>-0.341375</td>\n",
       "      <td>-0.016573</td>\n",
       "      <td>-0.482505</td>\n",
       "    </tr>\n",
       "    <tr>\n",
       "      <th>420</th>\n",
       "      <td>-0.596544</td>\n",
       "      <td>-0.249467</td>\n",
       "      <td>-0.439151</td>\n",
       "      <td>-0.546858</td>\n",
       "      <td>209.0</td>\n",
       "      <td>0.487635</td>\n",
       "      <td>-0.016584</td>\n",
       "      <td>-0.448301</td>\n",
       "    </tr>\n",
       "    <tr>\n",
       "      <th>808</th>\n",
       "      <td>4.393004</td>\n",
       "      <td>4.507903</td>\n",
       "      <td>1.264998</td>\n",
       "      <td>2.829956</td>\n",
       "      <td>215.0</td>\n",
       "      <td>-0.065038</td>\n",
       "      <td>-0.016553</td>\n",
       "      <td>0.646219</td>\n",
       "    </tr>\n",
       "  </tbody>\n",
       "</table>\n",
       "</div>"
      ],
      "text/plain": [
       "      accommodates  bedrooms  bathrooms      beds  price  minimum_nights  \\\n",
       "574      -0.596544 -0.249467  -0.439151 -0.546858  125.0       -0.341375   \n",
       "1593     -0.596544 -0.249467   0.412923 -0.546858   85.0       -0.341375   \n",
       "3091     -1.095499 -0.249467  -1.291226 -0.546858   50.0       -0.341375   \n",
       "420      -0.596544 -0.249467  -0.439151 -0.546858  209.0        0.487635   \n",
       "808       4.393004  4.507903   1.264998  2.829956  215.0       -0.065038   \n",
       "\n",
       "      maximum_nights  number_of_reviews  \n",
       "574        -0.016604           4.579650  \n",
       "1593       -0.016603           1.159275  \n",
       "3091       -0.016573          -0.482505  \n",
       "420        -0.016584          -0.448301  \n",
       "808        -0.016553           0.646219  "
      ]
     },
     "execution_count": 43,
     "metadata": {},
     "output_type": "execute_result"
    }
   ],
   "source": [
    "normalized_listing = (dc_listing - dc_listing.mean())/dc_listing.std()\n",
    "normalized_listing['price'] = dc_listing['price']\n",
    "normalized_listing.head()"
   ]
  },
  {
   "cell_type": "markdown",
   "metadata": {},
   "source": [
    "## Using sklearn.neighbors.KNeighborsRegressor\n",
    "<i>Is it same as sklearn.neighbors.KNeighborsClassifier ??<i>"
   ]
  },
  {
   "cell_type": "code",
   "execution_count": 44,
   "metadata": {
    "collapsed": true
   },
   "outputs": [],
   "source": [
    "train_df = normalized_listing.iloc[:2792]\n",
    "test_df = normalized_listing.iloc[2792:]"
   ]
  },
  {
   "cell_type": "code",
   "execution_count": 45,
   "metadata": {},
   "outputs": [
    {
     "name": "stdout",
     "output_type": "stream",
     "text": [
      "15660.3979522\n",
      "125.141511707\n"
     ]
    }
   ],
   "source": [
    "features = ['accommodates', 'bathrooms']\n",
    "knn = KNeighborsRegressor(n_neighbors=5, algorithm='brute', metric='euclidean')\n",
    "knn.fit(train_df[features], train_df['price'])\n",
    "predictions = knn.predict(test_df[features])\n",
    "\n",
    "two_feature_mse = mean_squared_error(test_df['price'], predictions)\n",
    "two_feature_rmse = np.sqrt(two_feature_mse)\n",
    "print(two_feature_mse)\n",
    "print(two_feature_rmse)"
   ]
  },
  {
   "cell_type": "code",
   "execution_count": 46,
   "metadata": {},
   "outputs": [
    {
     "name": "stdout",
     "output_type": "stream",
     "text": [
      "13425.5679181\n",
      "115.868752984\n"
     ]
    }
   ],
   "source": [
    "features = ['accommodates', 'bedrooms', 'bathrooms', 'number_of_reviews']\n",
    "knn = KNeighborsRegressor(n_neighbors=5, algorithm = 'brute')\n",
    "knn.fit(train_df[features], train_df['price'])\n",
    "predictions = knn.predict(test_df[features])\n",
    "\n",
    "four_feature_mse = mean_squared_error(test_df['price'], predictions)\n",
    "four_feature_rmse = np.sqrt(four_feature_mse)\n",
    "print(four_feature_mse)\n",
    "print(four_feature_rmse)"
   ]
  },
  {
   "cell_type": "code",
   "execution_count": 47,
   "metadata": {},
   "outputs": [
    {
     "name": "stdout",
     "output_type": "stream",
     "text": [
      "15455.1684642\n",
      "124.31881782\n"
     ]
    }
   ],
   "source": [
    "features = train_df.columns.tolist()\n",
    "features.remove('price')\n",
    "\n",
    "knn = KNeighborsRegressor(n_neighbors=5, algorithm = 'brute')\n",
    "knn.fit(train_df[features], train_df['price'])\n",
    "predictions = knn.predict(test_df[features])\n",
    "\n",
    "all_feature_mse = mean_squared_error(test_df['price'], predictions)\n",
    "all_feature_rmse = np.sqrt(all_feature_mse)\n",
    "print(all_feature_mse)\n",
    "print(all_feature_rmse)"
   ]
  },
  {
   "cell_type": "markdown",
   "metadata": {},
   "source": [
    "### <i> That means using the right features is more important than using more features <i>\n",
    "__________________"
   ]
  },
  {
   "cell_type": "markdown",
   "metadata": {},
   "source": [
    "# Optimization with hyper-parameter"
   ]
  },
  {
   "cell_type": "code",
   "execution_count": 48,
   "metadata": {
    "collapsed": true
   },
   "outputs": [],
   "source": [
    "import matplotlib.pyplot as plt\n",
    "%matplotlib inline"
   ]
  },
  {
   "cell_type": "code",
   "execution_count": 55,
   "metadata": {
    "collapsed": true
   },
   "outputs": [],
   "source": [
    "hyper_params = [x for x in range(1, 21)]  # 1 to 20, not include 21\n",
    "mes_values = list()"
   ]
  },
  {
   "cell_type": "code",
   "execution_count": 56,
   "metadata": {},
   "outputs": [
    {
     "data": {
      "text/plain": [
       "<matplotlib.collections.PathCollection at 0x1a2c2e107b8>"
      ]
     },
     "execution_count": 56,
     "metadata": {},
     "output_type": "execute_result"
    },
    {
     "data": {
      "image/png": "[encoded data removed]",
      "text/plain": [
       "<matplotlib.figure.Figure at 0x1a2c2db3780>"
      ]
     },
     "metadata": {},
     "output_type": "display_data"
    }
   ],
   "source": [
    "for hp in hyper_params:\n",
    "    knn = KNeighborsRegressor(n_neighbors=hp, algorithm = 'brute')\n",
    "    knn.fit(train_df[features], train_df['price'])\n",
    "    predictions = knn.predict(test_df[features])\n",
    "    mes = mean_squared_error(test_df['price'], predictions)\n",
    "    mes_values.append(mes)\n",
    "    \n",
    "plt.scatter(hyper_params, mes_values)"
   ]
  },
  {
   "cell_type": "markdown",
   "metadata": {},
   "source": [
    "# Cross Validation: using module or manually"
   ]
  },
  {
   "cell_type": "markdown",
   "metadata": {},
   "source": [
    "### cross validation module"
   ]
  },
  {
   "cell_type": "code",
   "execution_count": 57,
   "metadata": {
    "collapsed": true
   },
   "outputs": [],
   "source": [
    "from sklearn.model_selection import cross_val_score, KFold\n",
    "\n",
    "num_folds = [3, 5, 7, 9, 10, 11, 13, 15, 17, 19, 21, 23]"
   ]
  },
  {
   "cell_type": "code",
   "execution_count": 73,
   "metadata": {},
   "outputs": [
    {
     "name": "stdout",
     "output_type": "stream",
     "text": [
      "3  folds:  avg-RMSES:  123.170643757 std-RMSES:  4.26893303599\n",
      "5  folds:  avg-RMSES:  128.499315921 std-RMSES:  16.9789389088\n",
      "7  folds:  avg-RMSES:  127.97513377 std-RMSES:  20.4954352705\n",
      "9  folds:  avg-RMSES:  123.618726694 std-RMSES:  24.383915795\n",
      "10  folds:  avg-RMSES:  127.147684521 std-RMSES:  24.1297108046\n",
      "11  folds:  avg-RMSES:  127.61624299 std-RMSES:  29.3674088594\n",
      "13  folds:  avg-RMSES:  122.748356555 std-RMSES:  32.3783522657\n",
      "15  folds:  avg-RMSES:  122.757645401 std-RMSES:  32.893260161\n",
      "17  folds:  avg-RMSES:  123.005053153 std-RMSES:  35.4887123794\n",
      "19  folds:  avg-RMSES:  122.148212352 std-RMSES:  35.1736563994\n",
      "21  folds:  avg-RMSES:  121.109422469 std-RMSES:  37.1157474467\n",
      "23  folds:  avg-RMSES:  124.939858948 std-RMSES:  39.2787187113\n"
     ]
    }
   ],
   "source": [
    "for fold in num_folds:\n",
    "    kf = KFold(fold, shuffle=True, random_state=1)\n",
    "    model = KNeighborsRegressor()\n",
    "    # online documents: the default n_neighbors is 5 for both KNeighborsRegress\n",
    "    #  and KNeighborsClassifier\n",
    "    mses = cross_val_score(model, dc_listing[['accommodates']], \n",
    "                dc_listing['price'], scoring='neg_mean_squared_error', cv=kf)\n",
    "    rmses = np.sqrt(-1*mses)\n",
    "    avg_rmse = np.mean(rmses)\n",
    "    std_rmse = np.std(rmses)\n",
    "    print(fold, ' folds: ', 'avg-RMSES: ', str(avg_rmse), 'std-RMSES: ', \n",
    "         str(std_rmse))"
   ]
  },
  {
   "cell_type": "markdown",
   "metadata": {},
   "source": [
    "### Cross validation manually"
   ]
  },
  {
   "cell_type": "code",
   "execution_count": 66,
   "metadata": {},
   "outputs": [
    {
     "name": "stdout",
     "output_type": "stream",
     "text": [
      "2.0    745\n",
      "1.0    745\n",
      "4.0    744\n",
      "3.0    744\n",
      "5.0    693\n",
      "Name: fold, dtype: int64\n",
      "\n",
      " Num of missing values:  0\n"
     ]
    }
   ],
   "source": [
    "dc_listing.loc[dc_listing.index[0:745], 'fold'] = 1\n",
    "dc_listing.loc[dc_listing.index[745:1490], 'fold'] = 2\n",
    "dc_listing.loc[dc_listing.index[1490:2234], 'fold'] = 3\n",
    "dc_listing.loc[dc_listing.index[2234:2978], 'fold'] = 4\n",
    "dc_listing.loc[dc_listing.index[2978:3723], 'fold'] = 5\n",
    "\n",
    "print(dc_listing['fold'].value_counts())\n",
    "print('\\n Num of missing values: ', dc_listing['fold'].isnull().sum())"
   ]
  },
  {
   "cell_type": "code",
   "execution_count": 68,
   "metadata": {},
   "outputs": [],
   "source": [
    "folds = dc_listing['fold'].unique()"
   ]
  },
  {
   "cell_type": "code",
   "execution_count": 72,
   "metadata": {},
   "outputs": [
    {
     "name": "stdout",
     "output_type": "stream",
     "text": [
      "[105.45600004887692, 140.22399894167413, 153.35961918216583, 131.31358347216434, 114.07989529633392]\n",
      "128.886619388\n"
     ]
    }
   ],
   "source": [
    "def train_validate(df, folds):\n",
    "    fold_rmses = []\n",
    "    for fold in folds:\n",
    "        model = KNeighborsRegressor()\n",
    "        train = df[df['fold'] != fold]\n",
    "        test = df[df['fold'] == fold].copy()\n",
    "        model.fit(train[['accommodates']], train['price'])\n",
    "        \n",
    "        test['predicted'] = model.predict(test[['accommodates']])\n",
    "        mse = mean_squared_error(test['price'], test['predicted'])\n",
    "        rmse = mse**0.5\n",
    "        fold_rmses.append(rmse)\n",
    "    return fold_rmses\n",
    "\n",
    "rmses = train_validate(dc_listing, folds)\n",
    "print(rmses)\n",
    "avg_rmse = np.mean(rmses)\n",
    "print(avg_rmse)"
   ]
  },
  {
   "cell_type": "code",
   "execution_count": null,
   "metadata": {
    "collapsed": true
   },
   "outputs": [],
   "source": []
  }
 ],
 "metadata": {
  "kernelspec": {
   "display_name": "Python 3",
   "language": "python",
   "name": "python3"
  },
  "language_info": {
   "codemirror_mode": {
    "name": "ipython",
    "version": 3
   },
   "file_extension": ".py",
   "mimetype": "text/x-python",
   "name": "python",
   "nbconvert_exporter": "python",
   "pygments_lexer": "ipython3",
   "version": "3.5.4"
  }
 },
 "nbformat": 4,
 "nbformat_minor": 2
}
